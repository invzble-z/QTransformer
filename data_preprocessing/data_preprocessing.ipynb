{
 "cells": [
  {
   "cell_type": "markdown",
   "id": "afd9c5d4",
   "metadata": {},
   "source": [
    "# 📊 Supply Chain Data Preprocessing Pipeline\n",
    "\n",
    "## 🎯 **Objective**\n",
    "Transform transaction-level supply chain data into time series format for **QCAAPatchTF_Embedding** model training.\n",
    "\n",
    "### **Strategy**: Synchronized Timeline (Option A)\n",
    "- **Input**: DataCoSupplyChain_Synchronized.csv (147K transactions)\n",
    "- **Output**: Time series data [seq_len, 36_features] for 3 markets  \n",
    "- **Target**: Daily order counts [7_days, 3_markets]\n",
    "\n",
    "### **Pipeline Overview**:\n",
    "1. 📂 **Load & Parse Data** - Convert dates, validate markets\n",
    "2. 🔍 **Find Sync Point** - Timeline synchronization across markets  \n",
    "3. 📊 **Daily Aggregation** - Transaction → Daily time series\n",
    "4. 📅 **Complete Timeline** - Fill missing days for all markets\n",
    "5. 🕐 **Time Features** - Extract temporal patterns\n",
    "6. 🔧 **Feature Engineering** - Diversity indices, volatility\n",
    "7. 🧹 **Data Cleaning** - Outliers, missing values  \n",
    "8. 🎯 **Model Format** - Create sequences for training\n",
    "\n",
    "---"
   ]
  },
  {
   "cell_type": "markdown",
   "id": "5950eafc",
   "metadata": {},
   "source": [
    "## 1️⃣ Import Required Libraries\n",
    "\n",
    "Import all necessary libraries for data preprocessing pipeline."
   ]
  },
  {
   "cell_type": "code",
   "execution_count": 21,
   "id": "0086ec02",
   "metadata": {},
   "outputs": [
    {
     "name": "stdout",
     "output_type": "stream",
     "text": [
      "✅ All libraries imported successfully!\n",
      "📦 Pandas version: 1.5.3\n",
      "📦 NumPy version: 1.23.5\n"
     ]
    }
   ],
   "source": [
    "#!/usr/bin/env python3\n",
    "# -*- coding: utf-8 -*-\n",
    "\n",
    "# Core data processing libraries\n",
    "import pandas as pd\n",
    "import numpy as np\n",
    "from datetime import datetime, timedelta\n",
    "import os\n",
    "import warnings\n",
    "warnings.filterwarnings('ignore')\n",
    "\n",
    "# Statistical and preprocessing libraries\n",
    "from scipy.stats import zscore\n",
    "from scipy.stats.mstats import winsorize\n",
    "from sklearn.preprocessing import StandardScaler, LabelEncoder\n",
    "\n",
    "# Visualization (for validation)\n",
    "import matplotlib.pyplot as plt\n",
    "import seaborn as sns\n",
    "\n",
    "# Set display options\n",
    "pd.set_option('display.max_columns', None)\n",
    "pd.set_option('display.max_rows', 100)\n",
    "\n",
    "print(\"✅ All libraries imported successfully!\")\n",
    "print(f\"📦 Pandas version: {pd.__version__}\")\n",
    "print(f\"📦 NumPy version: {np.__version__}\")"
   ]
  },
  {
   "cell_type": "markdown",
   "id": "e414bae7",
   "metadata": {},
   "source": [
    "## 2️⃣ Initialize SupplyChainPreprocessor Class\n",
    "\n",
    "Define the main preprocessor class with configurable parameters."
   ]
  },
  {
   "cell_type": "code",
   "execution_count": 22,
   "id": "58026c8a",
   "metadata": {},
   "outputs": [
    {
     "name": "stdout",
     "output_type": "stream",
     "text": [
      "🔧 SupplyChainPreprocessor initialized\n",
      "⚙️  Config: min_orders=10, outlier_threshold=3.5\n",
      "🎯 Target markets: ['USCA', 'LATAM', 'Europe']\n",
      "\n",
      "✅ Preprocessor ready for use!\n"
     ]
    }
   ],
   "source": [
    "class SupplyChainPreprocessor:\n",
    "    \"\"\"\n",
    "    📈 Main preprocessing class for supply chain forecasting pipeline\n",
    "    \n",
    "    Features:\n",
    "    - Timeline synchronization across 3 markets (Option A)\n",
    "    - Transaction → daily aggregation\n",
    "    - Feature engineering (36 features total)\n",
    "    - Outlier handling and missing value imputation\n",
    "    - Time series format creation for model input\n",
    "    \"\"\"\n",
    "    \n",
    "    def __init__(self, min_orders_per_market=10, outlier_threshold=3.5):\n",
    "        \"\"\"\n",
    "        Initialize preprocessor with configurable parameters\n",
    "        \n",
    "        Args:\n",
    "            min_orders_per_market: Minimum daily orders to consider market \"active\"\n",
    "            outlier_threshold: Z-score threshold for outlier detection\n",
    "        \"\"\"\n",
    "        self.min_orders_per_market = min_orders_per_market\n",
    "        self.outlier_threshold = outlier_threshold\n",
    "        self.markets = ['USCA', 'LATAM', 'Europe']\n",
    "        self.scaler = StandardScaler()\n",
    "        self.label_encoders = {}\n",
    "        \n",
    "        # Timeline tracking\n",
    "        self.original_start_date = None\n",
    "        self.original_end_date = None\n",
    "        self.synchronized_start_date = None\n",
    "        self.final_end_date = None\n",
    "        self.data_loss_stats = {}\n",
    "        \n",
    "        # Feature tracking\n",
    "        self.feature_columns = []\n",
    "        self.target_column = 'order_count'\n",
    "        \n",
    "        print(\"🔧 SupplyChainPreprocessor initialized\")\n",
    "        print(f\"⚙️  Config: min_orders={min_orders_per_market}, outlier_threshold={outlier_threshold}\")\n",
    "        print(f\"🎯 Target markets: {self.markets}\")\n",
    "\n",
    "# Initialize preprocessor instance\n",
    "preprocessor = SupplyChainPreprocessor(\n",
    "    min_orders_per_market=10,\n",
    "    outlier_threshold=3.5\n",
    ")\n",
    "\n",
    "print(\"\\n✅ Preprocessor ready for use!\")"
   ]
  },
  {
   "cell_type": "markdown",
   "id": "89b7c3b2",
   "metadata": {},
   "source": [
    "## 3️⃣ Load Raw Supply Chain Data\n",
    "\n",
    "Read DataCoSupplyChain_Synchronized.csv and convert date columns."
   ]
  },
  {
   "cell_type": "code",
   "execution_count": 23,
   "id": "c1299a81",
   "metadata": {},
   "outputs": [
    {
     "name": "stdout",
     "output_type": "stream",
     "text": [
      "🧪 Testing data loading...\n",
      "🔄 Loading supply chain dataset...\n",
      "✅ Loaded 147,041 transactions\n",
      "📅 Original timeline: 2017-01-18 00:00:00 to 2018-01-31 00:00:00\n",
      "📊 Markets: ['USCA' 'Europe' 'LATAM']\n",
      "📋 Columns: 55 features\n",
      "\n",
      "✅ Data loaded successfully!\n",
      "📊 Shape: (147041, 55)\n",
      "📋 First few columns: ['Type', 'Days for shipping (real)', 'Days for shipment (scheduled)', 'Benefit per order', 'Sales per customer', 'Delivery Status', 'Late_delivery_risk', 'Category Id', 'Category Name', 'Customer City']\n",
      "✅ Loaded 147,041 transactions\n",
      "📅 Original timeline: 2017-01-18 00:00:00 to 2018-01-31 00:00:00\n",
      "📊 Markets: ['USCA' 'Europe' 'LATAM']\n",
      "📋 Columns: 55 features\n",
      "\n",
      "✅ Data loaded successfully!\n",
      "📊 Shape: (147041, 55)\n",
      "📋 First few columns: ['Type', 'Days for shipping (real)', 'Days for shipment (scheduled)', 'Benefit per order', 'Sales per customer', 'Delivery Status', 'Late_delivery_risk', 'Category Id', 'Category Name', 'Customer City']\n"
     ]
    }
   ],
   "source": [
    "def load_data(self, file_path):\n",
    "    \"\"\"\n",
    "    📂 Load raw supply chain dataset\n",
    "    \n",
    "    Args:\n",
    "        file_path: Path to DataCoSupplyChain_Synchronized.csv\n",
    "        \n",
    "    Returns:\n",
    "        pd.DataFrame: Raw dataset with datetime conversion\n",
    "    \"\"\"\n",
    "    print(\"🔄 Loading supply chain dataset...\")\n",
    "    \n",
    "    # Load dataset\n",
    "    df = pd.read_csv(file_path)\n",
    "    \n",
    "    # Convert date column to datetime\n",
    "    date_column = 'order date (DateOrders)'  # Exact column name from dataset\n",
    "    df['order_date_only'] = pd.to_datetime(df[date_column]).dt.date\n",
    "    df['order_date_only'] = pd.to_datetime(df['order_date_only'])\n",
    "    \n",
    "    # Store original timeline\n",
    "    self.original_start_date = df['order_date_only'].min()\n",
    "    self.original_end_date = df['order_date_only'].max()\n",
    "    \n",
    "    print(f\"✅ Loaded {len(df):,} transactions\")\n",
    "    print(f\"📅 Original timeline: {self.original_start_date} to {self.original_end_date}\")\n",
    "    print(f\"📊 Markets: {df['Market'].unique()}\")\n",
    "    print(f\"📋 Columns: {len(df.columns)} features\")\n",
    "    \n",
    "    return df\n",
    "\n",
    "# Add method to class\n",
    "SupplyChainPreprocessor.load_data = load_data\n",
    "\n",
    "# Test loading data\n",
    "print(\"🧪 Testing data loading...\")\n",
    "data_path = \"../dataset/DataCoSupplyChain_Synchronized.csv\"\n",
    "\n",
    "try:\n",
    "    df_raw = preprocessor.load_data(data_path)\n",
    "    print(f\"\\n✅ Data loaded successfully!\")\n",
    "    print(f\"📊 Shape: {df_raw.shape}\")\n",
    "    print(f\"📋 First few columns: {list(df_raw.columns[:10])}\")\n",
    "    \n",
    "except Exception as e:\n",
    "    print(f\"❌ Error loading data: {str(e)}\")\n",
    "    print(f\"📁 Looking for file at: {os.path.abspath(data_path)}\")\n",
    "    print(f\"📁 File exists: {os.path.exists(data_path)}\")"
   ]
  },
  {
   "cell_type": "markdown",
   "id": "fd2d8fe9",
   "metadata": {},
   "source": [
    "## 4️⃣ Find Synchronized Start Date  \n",
    "\n",
    "Implement Timeline synchronization strategy (Option A) - tìm ngày đầu tiên cả 3 markets đều hoạt động."
   ]
  },
  {
   "cell_type": "code",
   "execution_count": 24,
   "id": "5d8427db",
   "metadata": {},
   "outputs": [
    {
     "name": "stdout",
     "output_type": "stream",
     "text": [
      "🧪 Testing timeline synchronization...\n",
      "🔄 Finding synchronized start date (min 10 orders/market)...\n",
      "📊 Market matrix shape: (309, 3)\n",
      "📊 Available markets: ['Europe', 'LATAM', 'USCA']\n",
      "✅ Synchronized start date: 2017-05-22 00:00:00\n",
      "📊 Removed 124 days for synchronization\n",
      "📉 Data loss: 17,222 records (11.7%)\n",
      "\n",
      "✅ Synchronization completed!\n",
      "📅 Original start: 2017-01-18 00:00:00\n",
      "📅 Synchronized start: 2017-05-22 00:00:00\n",
      "📊 Data loss: 11.7%\n"
     ]
    }
   ],
   "source": [
    "def find_synchronized_start_date(self, df):\n",
    "    \"\"\"\n",
    "    🔍 Find the first date when ALL 3 markets have >= min_orders_per_market\n",
    "    \n",
    "    This implements the core synchronization strategy (Option A)\n",
    "    \n",
    "    Args:\n",
    "        df: Raw transaction dataset\n",
    "        \n",
    "    Returns:\n",
    "        datetime: Synchronized start date for all markets\n",
    "    \"\"\"\n",
    "    print(f\"🔄 Finding synchronized start date (min {self.min_orders_per_market} orders/market)...\")\n",
    "    \n",
    "    # Count daily orders per market\n",
    "    daily_counts = df.groupby(['order_date_only', 'Market']).size().reset_index(name='daily_orders')\n",
    "    \n",
    "    # Pivot to matrix format [date × market]\n",
    "    market_matrix = daily_counts.pivot(\n",
    "        index='order_date_only', \n",
    "        columns='Market', \n",
    "        values='daily_orders'\n",
    "    ).fillna(0)\n",
    "    \n",
    "    print(f\"📊 Market matrix shape: {market_matrix.shape}\")\n",
    "    print(f\"📊 Available markets: {list(market_matrix.columns)}\")\n",
    "    \n",
    "    # Ensure all 3 expected markets exist\n",
    "    for market in self.markets:\n",
    "        if market not in market_matrix.columns:\n",
    "            print(f\"⚠️  Warning: Market '{market}' not found in data\")\n",
    "            market_matrix[market] = 0\n",
    "    \n",
    "    # Find first date when ALL markets meet threshold\n",
    "    valid_days = (market_matrix[self.markets] >= self.min_orders_per_market).all(axis=1)\n",
    "    \n",
    "    if not valid_days.any():\n",
    "        raise ValueError(f\"❌ No date found where all markets have >= {self.min_orders_per_market} orders\")\n",
    "    \n",
    "    synchronized_start = valid_days[valid_days == True].index[0]\n",
    "    self.synchronized_start_date = synchronized_start\n",
    "    \n",
    "    # Calculate data loss statistics\n",
    "    removed_days = (synchronized_start - self.original_start_date).days\n",
    "    total_records = len(df)\n",
    "    sync_records = len(df[df['order_date_only'] >= synchronized_start])\n",
    "    data_loss_pct = ((total_records - sync_records) / total_records) * 100\n",
    "    \n",
    "    print(f\"✅ Synchronized start date: {synchronized_start}\")\n",
    "    print(f\"📊 Removed {removed_days} days for synchronization\")\n",
    "    print(f\"📉 Data loss: {total_records - sync_records:,} records ({data_loss_pct:.1f}%)\")\n",
    "    \n",
    "    # Store detailed statistics\n",
    "    self.data_loss_stats = {\n",
    "        'removed_days': removed_days,\n",
    "        'total_records': total_records,\n",
    "        'sync_records': sync_records,\n",
    "        'data_loss_pct': data_loss_pct\n",
    "    }\n",
    "    \n",
    "    return synchronized_start\n",
    "\n",
    "# Add method to class\n",
    "SupplyChainPreprocessor.find_synchronized_start_date = find_synchronized_start_date\n",
    "\n",
    "# Test synchronization\n",
    "print(\"🧪 Testing timeline synchronization...\")\n",
    "try:\n",
    "    sync_start = preprocessor.find_synchronized_start_date(df_raw)\n",
    "    print(f\"\\n✅ Synchronization completed!\")\n",
    "    print(f\"📅 Original start: {preprocessor.original_start_date}\")\n",
    "    print(f\"📅 Synchronized start: {sync_start}\")\n",
    "    print(f\"📊 Data loss: {preprocessor.data_loss_stats['data_loss_pct']:.1f}%\")\n",
    "    \n",
    "except Exception as e:\n",
    "    print(f\"❌ Error in synchronization: {str(e)}\")"
   ]
  },
  {
   "cell_type": "markdown",
   "id": "d3041696",
   "metadata": {},
   "source": [
    "## 5️⃣ Aggregate Transactions to Daily Time Series\n",
    "\n",
    "Transform transaction-level → daily aggregated data với proper aggregation rules."
   ]
  },
  {
   "cell_type": "code",
   "execution_count": 25,
   "id": "a9c52525",
   "metadata": {},
   "outputs": [
    {
     "name": "stdout",
     "output_type": "stream",
     "text": [
      "🧪 Testing daily aggregation...\n",
      "📊 Synchronized data: 129,819 records\n",
      "🔄 Aggregating transactions to daily time series...\n",
      "✅ Created daily aggregation: 765 records\n",
      "📅 Date range: 2017-05-22 00:00:00 to 2018-01-31 00:00:00\n",
      "📊 Markets per day: [3]\n",
      "📋 Features: ['order_date_only', 'Market', 'order_count', 'Days for shipping (real)', 'Late_delivery_risk', 'Order Item Product Price', 'Order Item Discount Rate', 'Order Item Profit Ratio', 'Order Profit Per Order', 'Order Item Quantity', 'Sales', 'Order Item Total', 'Customer Segment', 'Category Name']\n",
      "\n",
      "✅ Daily aggregation completed!\n",
      "📊 Daily data shape: (765, 14)\n",
      "📊 Sample order counts by market:\n",
      "        count        mean        std   min    25%    50%    75%    max\n",
      "Market                                                                \n",
      "Europe  255.0  168.411765  22.915435   6.0  162.0  171.0  180.0  220.0\n",
      "LATAM   255.0  170.882353  18.045270  49.0  162.0  171.0  181.0  213.0\n",
      "USCA    255.0  169.800000  16.384744  68.0  159.0  170.0  182.0  212.0\n",
      "✅ Created daily aggregation: 765 records\n",
      "📅 Date range: 2017-05-22 00:00:00 to 2018-01-31 00:00:00\n",
      "📊 Markets per day: [3]\n",
      "📋 Features: ['order_date_only', 'Market', 'order_count', 'Days for shipping (real)', 'Late_delivery_risk', 'Order Item Product Price', 'Order Item Discount Rate', 'Order Item Profit Ratio', 'Order Profit Per Order', 'Order Item Quantity', 'Sales', 'Order Item Total', 'Customer Segment', 'Category Name']\n",
      "\n",
      "✅ Daily aggregation completed!\n",
      "📊 Daily data shape: (765, 14)\n",
      "📊 Sample order counts by market:\n",
      "        count        mean        std   min    25%    50%    75%    max\n",
      "Market                                                                \n",
      "Europe  255.0  168.411765  22.915435   6.0  162.0  171.0  180.0  220.0\n",
      "LATAM   255.0  170.882353  18.045270  49.0  162.0  171.0  181.0  213.0\n",
      "USCA    255.0  169.800000  16.384744  68.0  159.0  170.0  182.0  212.0\n"
     ]
    }
   ],
   "source": [
    "def aggregate_to_daily(self, df):\n",
    "    \"\"\"\n",
    "    📊 Transform transaction-level data to daily aggregated time series\n",
    "    \n",
    "    Aggregation strategy:\n",
    "    - Count: Order Id (target variable)\n",
    "    - Mean: Price, discount, profit ratios, shipping days, risk\n",
    "    - Sum: Quantity, sales, order total\n",
    "    - Mode: Customer segment, category (for diversity calculation)\n",
    "    \n",
    "    Args:\n",
    "        df: Synchronized transaction dataset\n",
    "        \n",
    "    Returns:\n",
    "        pd.DataFrame: Daily aggregated data [date × market × features]\n",
    "    \"\"\"\n",
    "    print(\"🔄 Aggregating transactions to daily time series...\")\n",
    "    \n",
    "    # Define aggregation rules using actual column names\n",
    "    agg_rules = {\n",
    "        # Target variable\n",
    "        'Order Id': 'count',                    # Daily order count (TARGET)\n",
    "        \n",
    "        # Raw numerical features (to be averaged)\n",
    "        'Days for shipping (real)': 'mean',\n",
    "        'Late_delivery_risk': 'mean',\n",
    "        'Order Item Product Price': 'mean',\n",
    "        'Order Item Discount Rate': 'mean', \n",
    "        'Order Item Profit Ratio': 'mean',\n",
    "        'Order Profit Per Order': 'mean',\n",
    "        \n",
    "        # For engineered features (to be summed/processed)\n",
    "        'Order Item Quantity': 'sum',          # Total quantity per day\n",
    "        'Sales': 'sum',                        # Total sales per day\n",
    "        'Order Item Total': 'mean',            # Average order value\n",
    "        \n",
    "        # For diversity calculations (keep first for processing)\n",
    "        'Customer Segment': lambda x: list(x), # Keep all segments for diversity calc\n",
    "        'Category Name': lambda x: list(x)     # Keep all categories for diversity calc\n",
    "    }\n",
    "    \n",
    "    # Group by date and market, then aggregate\n",
    "    daily_agg = df.groupby(['order_date_only', 'Market']).agg(agg_rules).reset_index()\n",
    "    \n",
    "    # Rename target column for clarity\n",
    "    daily_agg = daily_agg.rename(columns={'Order Id': 'order_count'})\n",
    "    \n",
    "    print(f\"✅ Created daily aggregation: {len(daily_agg):,} records\")\n",
    "    print(f\"📅 Date range: {daily_agg['order_date_only'].min()} to {daily_agg['order_date_only'].max()}\")\n",
    "    print(f\"📊 Markets per day: {daily_agg.groupby('order_date_only')['Market'].count().unique()}\")\n",
    "    print(f\"📋 Features: {list(daily_agg.columns)}\")\n",
    "    \n",
    "    return daily_agg\n",
    "\n",
    "# Add method to class\n",
    "SupplyChainPreprocessor.aggregate_to_daily = aggregate_to_daily\n",
    "\n",
    "# Test daily aggregation\n",
    "print(\"🧪 Testing daily aggregation...\")\n",
    "try:\n",
    "    # Filter to synchronized data first\n",
    "    df_sync = df_raw[df_raw['order_date_only'] >= preprocessor.synchronized_start_date].copy()\n",
    "    print(f\"📊 Synchronized data: {len(df_sync):,} records\")\n",
    "    \n",
    "    df_daily = preprocessor.aggregate_to_daily(df_sync)\n",
    "    print(f\"\\n✅ Daily aggregation completed!\")\n",
    "    print(f\"📊 Daily data shape: {df_daily.shape}\")\n",
    "    print(f\"📊 Sample order counts by market:\")\n",
    "    print(df_daily.groupby('Market')['order_count'].describe())\n",
    "    \n",
    "except Exception as e:\n",
    "    print(f\"❌ Error in aggregation: {str(e)}\")"
   ]
  },
  {
   "cell_type": "markdown",
   "id": "610adeb6",
   "metadata": {},
   "source": [
    "## 6️⃣ Create Time-Based Features\n",
    "\n",
    "Generate temporal features: day_of_week, month, is_weekend, days_since_start."
   ]
  },
  {
   "cell_type": "code",
   "execution_count": 26,
   "id": "eb58d63d",
   "metadata": {},
   "outputs": [
    {
     "name": "stdout",
     "output_type": "stream",
     "text": [
      "🧪 Testing time feature creation...\n",
      "🔄 Creating time features...\n",
      "✅ Created 5 time features\n",
      "📊 Day of week range: 0 to 6\n",
      "📊 Month range: 1 to 12\n",
      "📊 Weekend percentage: 28.2%\n",
      "📊 Days since start range: 0 to 254\n",
      "\n",
      "✅ Time features created!\n",
      "📊 Updated shape: (765, 19)\n",
      "📋 New columns: ['day_of_week', 'day_of_month', 'month', 'is_weekend', 'days_since_start']\n",
      "\n",
      "📊 Sample time features:\n",
      "  order_date_only  day_of_week  day_of_month  month  is_weekend  \\\n",
      "0      2017-05-22            0            22      5           0   \n",
      "1      2017-05-22            0            22      5           0   \n",
      "2      2017-05-22            0            22      5           0   \n",
      "3      2017-05-23            1            23      5           0   \n",
      "4      2017-05-23            1            23      5           0   \n",
      "\n",
      "   days_since_start  \n",
      "0                 0  \n",
      "1                 0  \n",
      "2                 0  \n",
      "3                 1  \n",
      "4                 1  \n"
     ]
    }
   ],
   "source": [
    "def create_time_features(self, df):\n",
    "    \"\"\"\n",
    "    🕐 Create time-based features from order_date_only\n",
    "    \n",
    "    Features created:\n",
    "    - day_of_week: 0-6 (Monday=0)\n",
    "    - day_of_month: 1-31\n",
    "    - month: 1-12\n",
    "    - is_weekend: Boolean\n",
    "    - days_since_start: Trend component\n",
    "    \n",
    "    Args:\n",
    "        df: Daily aggregated dataset\n",
    "        \n",
    "    Returns:\n",
    "        pd.DataFrame: Dataset with additional time features\n",
    "    \"\"\"\n",
    "    print(\"🔄 Creating time features...\")\n",
    "    \n",
    "    df = df.copy()\n",
    "    \n",
    "    # Create time features\n",
    "    df['day_of_week'] = df['order_date_only'].dt.dayofweek\n",
    "    df['day_of_month'] = df['order_date_only'].dt.day\n",
    "    df['month'] = df['order_date_only'].dt.month\n",
    "    df['is_weekend'] = df['day_of_week'].isin([5, 6]).astype(int)\n",
    "    df['days_since_start'] = (df['order_date_only'] - self.synchronized_start_date).dt.days\n",
    "    \n",
    "    print(\"✅ Created 5 time features\")\n",
    "    print(f\"📊 Day of week range: {df['day_of_week'].min()} to {df['day_of_week'].max()}\")\n",
    "    print(f\"📊 Month range: {df['month'].min()} to {df['month'].max()}\")\n",
    "    print(f\"📊 Weekend percentage: {(df['is_weekend'].sum() / len(df) * 100):.1f}%\")\n",
    "    print(f\"📊 Days since start range: {df['days_since_start'].min()} to {df['days_since_start'].max()}\")\n",
    "    \n",
    "    return df\n",
    "\n",
    "# Add method to class\n",
    "SupplyChainPreprocessor.create_time_features = create_time_features\n",
    "\n",
    "# Test time feature creation\n",
    "print(\"🧪 Testing time feature creation...\")\n",
    "try:\n",
    "    df_with_time = preprocessor.create_time_features(df_daily)\n",
    "    print(f\"\\n✅ Time features created!\")\n",
    "    print(f\"📊 Updated shape: {df_with_time.shape}\")\n",
    "    print(f\"📋 New columns: {[col for col in df_with_time.columns if col not in df_daily.columns]}\")\n",
    "    \n",
    "    # Show sample of time features\n",
    "    print(f\"\\n📊 Sample time features:\")\n",
    "    time_cols = ['order_date_only', 'day_of_week', 'day_of_month', 'month', 'is_weekend', 'days_since_start']\n",
    "    print(df_with_time[time_cols].head())\n",
    "    \n",
    "except Exception as e:\n",
    "    print(f\"❌ Error creating time features: {str(e)}\")"
   ]
  },
  {
   "cell_type": "markdown",
   "id": "4d679812",
   "metadata": {},
   "source": [
    "## 7️⃣ Engineer Additional Features  \n",
    "\n",
    "Create customer segment percentages, category diversity index, và price volatility."
   ]
  },
  {
   "cell_type": "code",
   "execution_count": 27,
   "id": "5a6d8b1f",
   "metadata": {},
   "outputs": [
    {
     "name": "stdout",
     "output_type": "stream",
     "text": [
      "🧪 Testing enhanced feature engineering with outlier handling...\n",
      "🔄 Engineering additional features with enhanced outlier handling...\n",
      "✅ Created 5 engineered features\n",
      "📊 Consumer segment avg: 0.518\n",
      "📊 Corporate segment avg: 0.304\n",
      "📊 Home Office segment avg: 0.178\n",
      "📊 Category diversity avg: 0.894\n",
      "\n",
      "🔍 Starting enhanced outlier detection and treatment...\n",
      "📊 USCA: Found 1 outliers\n",
      "   Normal range: [124.5, 216.5]\n",
      "   Outlier values: [68]\n",
      "📊 LATAM: Found 5 outliers\n",
      "   Normal range: [133.5, 209.5]\n",
      "   Outlier values: [131  49  55 213 131]\n",
      "📊 Europe: Found 9 outliers\n",
      "   Normal range: [135.0, 207.0]\n",
      "   Outlier values: [121 211 213 127  45  26  39   6 220]\n",
      "\n",
      "🔧 Applying outlier treatment...\n",
      "   📈 USCA 2018-01-31: 68 → 170.0\n",
      "   📈 LATAM 2017-07-24: 131 → 174.0\n",
      "   📈 LATAM 2017-09-02: 49 → 171.0\n",
      "   📈 LATAM 2017-09-03: 55 → 171.0\n",
      "   📈 LATAM 2018-01-05: 213 → 171.0\n",
      "   📈 LATAM 2018-01-11: 131 → 171.0\n",
      "   📈 Europe 2017-05-22: 121 → 182.0\n",
      "   📈 Europe 2017-06-21: 211 → 176.0\n",
      "   📈 Europe 2017-07-05: 213 → 177.0\n",
      "   📈 Europe 2017-08-15: 127 → 176.0\n",
      "   📈 Europe 2017-10-15: 45 → 171.0\n",
      "   📈 Europe 2017-10-16: 26 → 171.0\n",
      "   📈 Europe 2017-10-17: 39 → 171.0\n",
      "   📈 Europe 2017-10-18: 6 → 171.0\n",
      "   📈 Europe 2017-11-02: 220 → 171.0\n",
      "\n",
      "✅ Outlier treatment completed:\n",
      "📊 Total outliers treated: 15\n",
      "\n",
      "🔍 Post-treatment validation:\n",
      "📊 USCA: 0 outliers remaining\n",
      "   New stats: μ=170.2, σ=15.1\n",
      "   New range: [133, 212]\n",
      "📊 LATAM: 2 outliers remaining\n",
      "   New stats: μ=172.0, σ=13.9\n",
      "   New range: [134, 209]\n",
      "📊 Europe: 2 outliers remaining\n",
      "   New stats: μ=170.6, σ=13.1\n",
      "   New range: [135, 203]\n",
      "\n",
      "✅ Enhanced feature engineering completed!\n",
      "📊 Updated shape: (765, 24)\n",
      "📋 Engineered features: ['customer_segment_consumer_pct', 'customer_segment_corporate_pct', 'customer_segment_home_office_pct', 'category_diversity_index', 'price_volatility']\n",
      "\n",
      "📊 Sample engineered features:\n",
      "   customer_segment_consumer_pct  customer_segment_corporate_pct  \\\n",
      "0                       0.495868                        0.380165   \n",
      "1                       0.597561                        0.195122   \n",
      "2                       0.535519                        0.289617   \n",
      "3                       0.548913                        0.320652   \n",
      "4                       0.685185                        0.160494   \n",
      "\n",
      "   customer_segment_home_office_pct  category_diversity_index  \\\n",
      "0                          0.123967                  0.887508   \n",
      "1                          0.207317                  0.894036   \n",
      "2                          0.174863                  0.892950   \n",
      "3                          0.130435                  0.897271   \n",
      "4                          0.154321                  0.890794   \n",
      "\n",
      "   price_volatility  \n",
      "0               0.1  \n",
      "1               0.1  \n",
      "2               0.1  \n",
      "3               0.1  \n",
      "4               0.1  \n",
      "\n",
      "📊 Sample cleaned order counts by market:\n",
      "        count   mean   std    min    25%    50%    75%    max\n",
      "Market                                                       \n",
      "Europe  255.0  170.6  13.1  135.0  163.0  171.0  180.0  203.0\n",
      "LATAM   255.0  172.0  13.9  134.0  163.0  171.0  181.0  209.0\n",
      "USCA    255.0  170.2  15.1  133.0  159.0  170.0  182.0  212.0\n",
      "   📈 Europe 2017-10-15: 45 → 171.0\n",
      "   📈 Europe 2017-10-16: 26 → 171.0\n",
      "   📈 Europe 2017-10-17: 39 → 171.0\n",
      "   📈 Europe 2017-10-18: 6 → 171.0\n",
      "   📈 Europe 2017-11-02: 220 → 171.0\n",
      "\n",
      "✅ Outlier treatment completed:\n",
      "📊 Total outliers treated: 15\n",
      "\n",
      "🔍 Post-treatment validation:\n",
      "📊 USCA: 0 outliers remaining\n",
      "   New stats: μ=170.2, σ=15.1\n",
      "   New range: [133, 212]\n",
      "📊 LATAM: 2 outliers remaining\n",
      "   New stats: μ=172.0, σ=13.9\n",
      "   New range: [134, 209]\n",
      "📊 Europe: 2 outliers remaining\n",
      "   New stats: μ=170.6, σ=13.1\n",
      "   New range: [135, 203]\n",
      "\n",
      "✅ Enhanced feature engineering completed!\n",
      "📊 Updated shape: (765, 24)\n",
      "📋 Engineered features: ['customer_segment_consumer_pct', 'customer_segment_corporate_pct', 'customer_segment_home_office_pct', 'category_diversity_index', 'price_volatility']\n",
      "\n",
      "📊 Sample engineered features:\n",
      "   customer_segment_consumer_pct  customer_segment_corporate_pct  \\\n",
      "0                       0.495868                        0.380165   \n",
      "1                       0.597561                        0.195122   \n",
      "2                       0.535519                        0.289617   \n",
      "3                       0.548913                        0.320652   \n",
      "4                       0.685185                        0.160494   \n",
      "\n",
      "   customer_segment_home_office_pct  category_diversity_index  \\\n",
      "0                          0.123967                  0.887508   \n",
      "1                          0.207317                  0.894036   \n",
      "2                          0.174863                  0.892950   \n",
      "3                          0.130435                  0.897271   \n",
      "4                          0.154321                  0.890794   \n",
      "\n",
      "   price_volatility  \n",
      "0               0.1  \n",
      "1               0.1  \n",
      "2               0.1  \n",
      "3               0.1  \n",
      "4               0.1  \n",
      "\n",
      "📊 Sample cleaned order counts by market:\n",
      "        count   mean   std    min    25%    50%    75%    max\n",
      "Market                                                       \n",
      "Europe  255.0  170.6  13.1  135.0  163.0  171.0  180.0  203.0\n",
      "LATAM   255.0  172.0  13.9  134.0  163.0  171.0  181.0  209.0\n",
      "USCA    255.0  170.2  15.1  133.0  159.0  170.0  182.0  212.0\n"
     ]
    }
   ],
   "source": [
    "def engineer_features(self, df):\n",
    "    \"\"\"\n",
    "    🔧 Engineer additional features from aggregated data + Enhanced Outlier Handling\n",
    "    \n",
    "    Features created:\n",
    "    - Customer segment percentages (3 features)\n",
    "    - Category diversity index (Simpson's diversity)\n",
    "    - Price volatility (coefficient of variation)\n",
    "    - Enhanced outlier detection and treatment\n",
    "    \n",
    "    Args:\n",
    "        df: Dataset with time features\n",
    "        \n",
    "    Returns:\n",
    "        pd.DataFrame: Dataset with engineered features and cleaned outliers\n",
    "    \"\"\"\n",
    "    print(\"🔄 Engineering additional features with enhanced outlier handling...\")\n",
    "    \n",
    "    df = df.copy()\n",
    "    \n",
    "    # Customer segment percentages\n",
    "    def calc_segment_percentages(segments_list):\n",
    "        \"\"\"Calculate percentage of each segment in a list\"\"\"\n",
    "        if not segments_list or len(segments_list) == 0:\n",
    "            return 0.33, 0.33, 0.34  # Default equal distribution\n",
    "        \n",
    "        total = len(segments_list)\n",
    "        consumer_pct = segments_list.count('Consumer') / total\n",
    "        corporate_pct = segments_list.count('Corporate') / total\n",
    "        home_office_pct = segments_list.count('Home Office') / total\n",
    "        \n",
    "        return consumer_pct, corporate_pct, home_office_pct\n",
    "    \n",
    "    # Apply to each row\n",
    "    segment_data = df['Customer Segment'].apply(calc_segment_percentages)\n",
    "    df['customer_segment_consumer_pct'] = [x[0] for x in segment_data]\n",
    "    df['customer_segment_corporate_pct'] = [x[1] for x in segment_data]\n",
    "    df['customer_segment_home_office_pct'] = [x[2] for x in segment_data]\n",
    "    \n",
    "    # Category diversity index (Simpson's diversity)\n",
    "    def calc_diversity_index(categories_list):\n",
    "        \"\"\"Calculate Simpson's diversity index\"\"\"\n",
    "        if not categories_list or len(categories_list) == 0:\n",
    "            return 0.5  # Default moderate diversity\n",
    "        \n",
    "        total = len(categories_list)\n",
    "        category_counts = {}\n",
    "        for cat in categories_list:\n",
    "            category_counts[cat] = category_counts.get(cat, 0) + 1\n",
    "        \n",
    "        # Simpson's diversity: 1 - sum(pi^2)\n",
    "        diversity = 1 - sum((count/total)**2 for count in category_counts.values())\n",
    "        return diversity\n",
    "    \n",
    "    df['category_diversity_index'] = df['Category Name'].apply(calc_diversity_index)\n",
    "    \n",
    "    # Price volatility (coefficient of variation for the day)\n",
    "    # Since we aggregated to daily mean, we'll use a placeholder for now\n",
    "    # In real implementation, would need price data within each day\n",
    "    df['price_volatility'] = 0.1  # Placeholder - could be calculated from original data\n",
    "    \n",
    "    print(\"✅ Created 5 engineered features\")\n",
    "    print(f\"📊 Consumer segment avg: {df['customer_segment_consumer_pct'].mean():.3f}\")\n",
    "    print(f\"📊 Corporate segment avg: {df['customer_segment_corporate_pct'].mean():.3f}\")\n",
    "    print(f\"📊 Home Office segment avg: {df['customer_segment_home_office_pct'].mean():.3f}\")\n",
    "    print(f\"📊 Category diversity avg: {df['category_diversity_index'].mean():.3f}\")\n",
    "    \n",
    "    # ========================================================================\n",
    "    # 🎯 ENHANCED OUTLIER HANDLING - Hybrid Approach \n",
    "    # ========================================================================\n",
    "    print(\"\\n🔍 Starting enhanced outlier detection and treatment...\")\n",
    "    \n",
    "    # Step 1: Identify extreme outliers using IQR method per market\n",
    "    outliers_detected = {}\n",
    "    outliers_treated = {}\n",
    "    \n",
    "    for market in self.markets:\n",
    "        market_data = df[df['Market'] == market]['order_count']\n",
    "        \n",
    "        # Calculate IQR bounds\n",
    "        Q1 = market_data.quantile(0.25)\n",
    "        Q3 = market_data.quantile(0.75)\n",
    "        IQR = Q3 - Q1\n",
    "        \n",
    "        # Conservative outlier bounds (1.5 * IQR instead of 3 * IQR for extreme cases)\n",
    "        lower_bound = Q1 - 1.5 * IQR\n",
    "        upper_bound = Q3 + 1.5 * IQR\n",
    "        \n",
    "        # Find outliers\n",
    "        outlier_mask = (market_data < lower_bound) | (market_data > upper_bound)\n",
    "        outlier_indices = market_data[outlier_mask].index\n",
    "        outlier_values = market_data[outlier_mask].values\n",
    "        \n",
    "        outliers_detected[market] = {\n",
    "            'count': len(outlier_indices),\n",
    "            'indices': outlier_indices.tolist(),\n",
    "            'values': outlier_values.tolist(),\n",
    "            'bounds': (lower_bound, upper_bound),\n",
    "            'Q1': Q1, 'Q3': Q3, 'IQR': IQR\n",
    "        }\n",
    "        \n",
    "        print(f\"📊 {market}: Found {len(outlier_indices)} outliers\")\n",
    "        print(f\"   Normal range: [{lower_bound:.1f}, {upper_bound:.1f}]\")\n",
    "        if len(outlier_values) > 0:\n",
    "            print(f\"   Outlier values: {outlier_values}\")\n",
    "    \n",
    "    # Step 2: Apply treatment based on severity\n",
    "    print(f\"\\n🔧 Applying outlier treatment...\")\n",
    "    \n",
    "    for market in self.markets:\n",
    "        if outliers_detected[market]['count'] == 0:\n",
    "            continue\n",
    "            \n",
    "        market_mask = df['Market'] == market\n",
    "        market_data = df.loc[market_mask, 'order_count'].copy()\n",
    "        original_values = market_data.copy()\n",
    "        \n",
    "        outlier_info = outliers_detected[market]\n",
    "        \n",
    "        for idx in outlier_info['indices']:\n",
    "            original_value = df.loc[idx, 'order_count']\n",
    "            \n",
    "            # Get market-specific position for rolling window\n",
    "            market_dates = df[df['Market'] == market]['order_date_only'].sort_values()\n",
    "            current_date = df.loc[idx, 'order_date_only']\n",
    "            position = market_dates[market_dates == current_date].index[0]\n",
    "            \n",
    "            # Method 1: Rolling window median (7-day window)\n",
    "            window_size = 7\n",
    "            start_pos = max(0, position - window_size//2)\n",
    "            end_pos = min(len(market_dates), position + window_size//2 + 1)\n",
    "            \n",
    "            # Get surrounding values for interpolation\n",
    "            market_subset = df[df['Market'] == market].sort_values('order_date_only')\n",
    "            window_values = market_subset.iloc[start_pos:end_pos]['order_count']\n",
    "            \n",
    "            # Calculate median of non-outlier neighbors\n",
    "            non_outlier_neighbors = []\n",
    "            for neighbor_idx in window_values.index:\n",
    "                if neighbor_idx != idx:  # Exclude current outlier\n",
    "                    neighbor_val = df.loc[neighbor_idx, 'order_count']\n",
    "                    if (outlier_info['bounds'][0] <= neighbor_val <= outlier_info['bounds'][1]):\n",
    "                        non_outlier_neighbors.append(neighbor_val)\n",
    "            \n",
    "            if len(non_outlier_neighbors) >= 3:\n",
    "                # Use median of clean neighbors\n",
    "                new_value = np.median(non_outlier_neighbors)\n",
    "            elif len(non_outlier_neighbors) >= 1:\n",
    "                # Use mean if we have at least 1 clean neighbor\n",
    "                new_value = np.mean(non_outlier_neighbors)\n",
    "            else:\n",
    "                # Fallback to market median\n",
    "                new_value = df[df['Market'] == market]['order_count'].median()\n",
    "            \n",
    "            # Apply the correction\n",
    "            df.loc[idx, 'order_count'] = new_value\n",
    "            \n",
    "            outliers_treated[idx] = {\n",
    "                'market': market,\n",
    "                'date': current_date,\n",
    "                'original': original_value,\n",
    "                'corrected': new_value,\n",
    "                'method': 'rolling_window_median'\n",
    "            }\n",
    "            \n",
    "            print(f\"   📈 {market} {current_date.strftime('%Y-%m-%d')}: {original_value:.0f} → {new_value:.1f}\")\n",
    "    \n",
    "    print(f\"\\n✅ Outlier treatment completed:\")\n",
    "    print(f\"📊 Total outliers treated: {len(outliers_treated)}\")\n",
    "    \n",
    "    # Step 3: Validation - check if treatment was effective\n",
    "    print(f\"\\n🔍 Post-treatment validation:\")\n",
    "    for market in self.markets:\n",
    "        market_data = df[df['Market'] == market]['order_count']\n",
    "        \n",
    "        Q1_new = market_data.quantile(0.25)\n",
    "        Q3_new = market_data.quantile(0.75)\n",
    "        IQR_new = Q3_new - Q1_new\n",
    "        lower_new = Q1_new - 1.5 * IQR_new\n",
    "        upper_new = Q3_new + 1.5 * IQR_new\n",
    "        \n",
    "        remaining_outliers = ((market_data < lower_new) | (market_data > upper_new)).sum()\n",
    "        \n",
    "        print(f\"📊 {market}: {remaining_outliers} outliers remaining\")\n",
    "        print(f\"   New stats: μ={market_data.mean():.1f}, σ={market_data.std():.1f}\")\n",
    "        print(f\"   New range: [{market_data.min():.0f}, {market_data.max():.0f}]\")\n",
    "    \n",
    "    # Store outlier treatment info for later reference\n",
    "    self.outlier_treatment_log = outliers_treated\n",
    "    \n",
    "    return df\n",
    "\n",
    "# Add method to class\n",
    "SupplyChainPreprocessor.engineer_features = engineer_features\n",
    "\n",
    "# Test feature engineering with enhanced outlier handling\n",
    "print(\"🧪 Testing enhanced feature engineering with outlier handling...\")\n",
    "try:\n",
    "    df_featured = preprocessor.engineer_features(df_with_time)\n",
    "    print(f\"\\n✅ Enhanced feature engineering completed!\")\n",
    "    print(f\"📊 Updated shape: {df_featured.shape}\")\n",
    "    \n",
    "    # Show new engineered features\n",
    "    eng_cols = ['customer_segment_consumer_pct', 'customer_segment_corporate_pct', \n",
    "                'customer_segment_home_office_pct', 'category_diversity_index', 'price_volatility']\n",
    "    print(f\"📋 Engineered features: {eng_cols}\")\n",
    "    print(f\"\\n📊 Sample engineered features:\")\n",
    "    print(df_featured[eng_cols].head())\n",
    "    \n",
    "    # Show sample of cleaned order counts\n",
    "    print(f\"\\n📊 Sample cleaned order counts by market:\")\n",
    "    print(df_featured.groupby('Market')['order_count'].describe().round(1))\n",
    "    \n",
    "except Exception as e:\n",
    "    print(f\"❌ Error in enhanced feature engineering: {str(e)}\")\n",
    "    import traceback\n",
    "    traceback.print_exc()"
   ]
  },
  {
   "cell_type": "markdown",
   "id": "4f08a825",
   "metadata": {},
   "source": [
    "## 8️⃣ Final Processing & Data Export\n",
    "\n",
    "Prepare final dataset và save to CSV files với label mappings."
   ]
  },
  {
   "cell_type": "code",
   "execution_count": 28,
   "id": "27729499",
   "metadata": {},
   "outputs": [
    {
     "name": "stdout",
     "output_type": "stream",
     "text": [
      "🧪 Finalizing and preparing export...\n",
      "🔄 Finalizing dataset for export...\n",
      "✅ Final dataset prepared\n",
      "📊 Shape: (765, 23)\n",
      "📋 Features: 21 total\n",
      "📋 Numerical: 20\n",
      "📋 Categorical: 1\n",
      "\n",
      "✅ Data finalization completed!\n",
      "📊 Final shape: (765, 23)\n",
      "🏷️  Market encoding: {'Europe': 0, 'LATAM': 1, 'USCA': 2}\n",
      "📋 Feature columns: 21\n",
      "\n",
      "📊 Sample final data:\n",
      "  order_date_only  Market  Market_encoded  order_count  day_of_week  month\n",
      "0      2017-05-22  Europe               0          182            0      5\n",
      "1      2017-05-22   LATAM               1          164            0      5\n",
      "2      2017-05-22    USCA               2          183            0      5\n",
      "3      2017-05-23  Europe               0          184            1      5\n",
      "4      2017-05-23   LATAM               1          162            1      5\n"
     ]
    }
   ],
   "source": [
    "# Final data processing and export\n",
    "def finalize_and_export(self, df, output_dir=\"../dataset\"):\n",
    "    \"\"\"\n",
    "    🎯 Finalize dataset and export to CSV files\n",
    "    \n",
    "    Args:\n",
    "        df: Processed dataframe\n",
    "        output_dir: Directory to save files\n",
    "    \"\"\"\n",
    "    print(\"🔄 Finalizing dataset for export...\")\n",
    "    \n",
    "    # Create output directory if needed\n",
    "    os.makedirs(output_dir, exist_ok=True)\n",
    "    \n",
    "    # Select final feature columns (numerical features for model)\n",
    "    numerical_features = [\n",
    "        # Raw numerical features (6)\n",
    "        'Days for shipping (real)', 'Late_delivery_risk', 'Order Item Product Price',\n",
    "        'Order Item Discount Rate', 'Order Item Profit Ratio', 'Order Profit Per Order',\n",
    "        \n",
    "        # Engineered numerical features (9)  \n",
    "        'Order Item Quantity', 'Sales', 'Order Item Total',\n",
    "        'customer_segment_consumer_pct', 'customer_segment_corporate_pct', \n",
    "        'customer_segment_home_office_pct', 'category_diversity_index', 'price_volatility',\n",
    "        'order_count',  # Include target for reference\n",
    "        \n",
    "        # Time features (5)\n",
    "        'day_of_week', 'day_of_month', 'month', 'is_weekend', 'days_since_start'\n",
    "    ]\n",
    "    \n",
    "    # Create final dataset\n",
    "    final_df = df[['order_date_only', 'Market'] + numerical_features].copy()\n",
    "    \n",
    "    # Create Market label encoding for embedding\n",
    "    market_encoder = LabelEncoder()\n",
    "    final_df['Market_encoded'] = market_encoder.fit_transform(final_df['Market'])\n",
    "    \n",
    "    # Store feature information\n",
    "    feature_info = {\n",
    "        'total_features': len(numerical_features) + 1,  # +1 for Market embedding\n",
    "        'numerical_features': len(numerical_features),\n",
    "        'categorical_features': 1,  # Market only\n",
    "        'target_column': 'order_count',\n",
    "        'market_encoding': dict(zip(market_encoder.classes_, market_encoder.transform(market_encoder.classes_))),\n",
    "        'feature_columns': numerical_features + ['Market_encoded']\n",
    "    }\n",
    "    \n",
    "    print(f\"✅ Final dataset prepared\")\n",
    "    print(f\"📊 Shape: {final_df.shape}\")\n",
    "    print(f\"📋 Features: {len(feature_info['feature_columns'])} total\")\n",
    "    print(f\"📋 Numerical: {feature_info['numerical_features']}\")\n",
    "    print(f\"📋 Categorical: {feature_info['categorical_features']}\")\n",
    "    \n",
    "    return final_df, feature_info\n",
    "\n",
    "# Add method to class\n",
    "SupplyChainPreprocessor.finalize_and_export = finalize_and_export\n",
    "\n",
    "# Execute final processing\n",
    "print(\"🧪 Finalizing and preparing export...\")\n",
    "try:\n",
    "    final_data, feature_info = preprocessor.finalize_and_export(df_featured)\n",
    "    \n",
    "    print(f\"\\n✅ Data finalization completed!\")\n",
    "    print(f\"📊 Final shape: {final_data.shape}\")\n",
    "    print(f\"🏷️  Market encoding: {feature_info['market_encoding']}\")\n",
    "    print(f\"📋 Feature columns: {len(feature_info['feature_columns'])}\")\n",
    "    \n",
    "    # Show sample of final data\n",
    "    print(f\"\\n📊 Sample final data:\")\n",
    "    sample_cols = ['order_date_only', 'Market', 'Market_encoded', 'order_count', 'day_of_week', 'month']\n",
    "    print(final_data[sample_cols].head())\n",
    "    \n",
    "except Exception as e:\n",
    "    print(f\"❌ Error in finalization: {str(e)}\")"
   ]
  },
  {
   "cell_type": "code",
   "execution_count": 29,
   "id": "af5fecd0",
   "metadata": {},
   "outputs": [
    {
     "name": "stdout",
     "output_type": "stream",
     "text": [
      "📁 Saving processed data to CSV files...\n",
      "✅ Saved main dataset: ../dataset/supply_chain_processed.csv\n",
      "✅ Saved feature mapping: ../dataset/feature_mapping.json\n",
      "✅ Saved preprocessing stats: ../dataset/preprocessing_stats.json\n",
      "\n",
      "📊 FINAL DATA SUMMARY\n",
      "==================================================\n",
      "📁 Main dataset: ../dataset/supply_chain_processed.csv\n",
      "📁 Feature mapping: ../dataset/feature_mapping.json\n",
      "📁 Statistics: ../dataset/preprocessing_stats.json\n",
      "\n",
      "📊 Data shape: (765, 23)\n",
      "📅 Timeline: 2017-05-22 00:00:00 to 2018-01-31 00:00:00\n",
      "🎯 Markets: ['Europe', 'LATAM', 'USCA']\n",
      "📋 Features: 21 total\n",
      "📉 Data loss: 11.7%\n",
      "📈 Avg orders/day/market: 170.9\n",
      "\n",
      "✅ ALL DATA PROCESSING AND EXPORT COMPLETED!\n",
      "🎯 Ready for QCAAPatchTF_Embedding model training\n"
     ]
    }
   ],
   "source": [
    "# Export processed data to CSV files\n",
    "print(\"📁 Saving processed data to CSV files...\")\n",
    "\n",
    "# 1. Save main processed dataset\n",
    "output_file = \"../dataset/supply_chain_processed.csv\"\n",
    "final_data.to_csv(output_file, index=False)\n",
    "print(f\"✅ Saved main dataset: {output_file}\")\n",
    "\n",
    "# 2. Save feature mapping information\n",
    "import json\n",
    "feature_mapping_file = \"../dataset/feature_mapping.json\"\n",
    "with open(feature_mapping_file, 'w') as f:\n",
    "    json.dump(feature_info, f, indent=2, default=str)\n",
    "print(f\"✅ Saved feature mapping: {feature_mapping_file}\")\n",
    "\n",
    "# 3. Save preprocessing statistics\n",
    "preprocessing_stats = {\n",
    "    'original_records': preprocessor.data_loss_stats['total_records'],\n",
    "    'processed_records': len(final_data),\n",
    "    'data_loss_percentage': preprocessor.data_loss_stats['data_loss_pct'],\n",
    "    'original_timeline': f\"{preprocessor.original_start_date} to {preprocessor.original_end_date}\",\n",
    "    'synchronized_timeline': f\"{preprocessor.synchronized_start_date} to {final_data['order_date_only'].max()}\",\n",
    "    'markets': list(feature_info['market_encoding'].keys()),\n",
    "    'total_features': feature_info['total_features'],\n",
    "    'days_processed': len(final_data) // 3,  # 3 markets per day\n",
    "    'avg_orders_per_day_per_market': final_data['order_count'].mean()\n",
    "}\n",
    "\n",
    "stats_file = \"../dataset/preprocessing_stats.json\"\n",
    "with open(stats_file, 'w') as f:\n",
    "    json.dump(preprocessing_stats, f, indent=2, default=str)\n",
    "print(f\"✅ Saved preprocessing stats: {stats_file}\")\n",
    "\n",
    "# 4. Create data summary for validation\n",
    "print(f\"\\n📊 FINAL DATA SUMMARY\")\n",
    "print(f\"=\"*50)\n",
    "print(f\"📁 Main dataset: {output_file}\")\n",
    "print(f\"📁 Feature mapping: {feature_mapping_file}\")\n",
    "print(f\"📁 Statistics: {stats_file}\")\n",
    "print(f\"\")\n",
    "print(f\"📊 Data shape: {final_data.shape}\")\n",
    "print(f\"📅 Timeline: {final_data['order_date_only'].min()} to {final_data['order_date_only'].max()}\")\n",
    "print(f\"🎯 Markets: {list(feature_info['market_encoding'].keys())}\")\n",
    "print(f\"📋 Features: {feature_info['total_features']} total\")\n",
    "print(f\"📉 Data loss: {preprocessing_stats['data_loss_percentage']:.1f}%\")\n",
    "print(f\"📈 Avg orders/day/market: {preprocessing_stats['avg_orders_per_day_per_market']:.1f}\")\n",
    "\n",
    "print(f\"\\n✅ ALL DATA PROCESSING AND EXPORT COMPLETED!\")\n",
    "print(f\"🎯 Ready for QCAAPatchTF_Embedding model training\")"
   ]
  },
  {
   "cell_type": "markdown",
   "id": "c2b487e1",
   "metadata": {},
   "source": [
    "## 9️⃣ Validate Processed Data with Visualization\n",
    "\n",
    "Load processed data và vẽ biểu đồ để validate kết quả preprocessing."
   ]
  },
  {
   "cell_type": "code",
   "execution_count": 30,
   "id": "c4739b63",
   "metadata": {},
   "outputs": [
    {
     "name": "stdout",
     "output_type": "stream",
     "text": [
      "📊 Loading processed data for validation...\n",
      "✅ Loaded processed data: (765, 23)\n",
      "📅 Timeline: 2017-05-22 00:00:00 to 2018-01-31 00:00:00\n",
      "🎯 Markets: ['Europe' 'LATAM' 'USCA']\n",
      "📋 Feature mapping loaded:\n",
      "   - Total features: 21\n",
      "   - Target column: order_count\n",
      "   - Market encoding: {'Europe': '0', 'LATAM': '1', 'USCA': '2'}\n",
      "\n",
      "📊 Sample processed data:\n",
      "  order_date_only  Market  order_count  day_of_week  month  is_weekend\n",
      "0      2017-05-22  Europe          182            0      5           0\n",
      "1      2017-05-22   LATAM          164            0      5           0\n",
      "2      2017-05-22    USCA          183            0      5           0\n",
      "3      2017-05-23  Europe          184            1      5           0\n",
      "4      2017-05-23   LATAM          162            1      5           0\n",
      "5      2017-05-23    USCA          136            1      5           0\n",
      "6      2017-05-24  Europe          182            2      5           0\n",
      "7      2017-05-24   LATAM          171            2      5           0\n",
      "8      2017-05-24    USCA          163            2      5           0\n",
      "9      2017-05-25  Europe          160            3      5           0\n"
     ]
    }
   ],
   "source": [
    "# Load processed data and setup visualization\n",
    "print(\"📊 Loading processed data for validation...\")\n",
    "\n",
    "# Import additional plotting libraries\n",
    "import plotly.express as px\n",
    "import plotly.graph_objects as go\n",
    "from plotly.subplots import make_subplots\n",
    "import plotly.offline as py\n",
    "\n",
    "# Load processed data\n",
    "processed_data = pd.read_csv(\"../dataset/supply_chain_processed.csv\")\n",
    "processed_data['order_date_only'] = pd.to_datetime(processed_data['order_date_only'])\n",
    "\n",
    "print(f\"✅ Loaded processed data: {processed_data.shape}\")\n",
    "print(f\"📅 Timeline: {processed_data['order_date_only'].min()} to {processed_data['order_date_only'].max()}\")\n",
    "print(f\"🎯 Markets: {processed_data['Market'].unique()}\")\n",
    "\n",
    "# Load feature mapping for reference\n",
    "with open(\"../dataset/feature_mapping.json\", 'r') as f:\n",
    "    feature_mapping = json.load(f)\n",
    "    \n",
    "print(f\"📋 Feature mapping loaded:\")\n",
    "print(f\"   - Total features: {feature_mapping['total_features']}\")\n",
    "print(f\"   - Target column: {feature_mapping['target_column']}\")\n",
    "print(f\"   - Market encoding: {feature_mapping['market_encoding']}\")\n",
    "\n",
    "# Show sample of processed data\n",
    "print(f\"\\n📊 Sample processed data:\")\n",
    "display_cols = ['order_date_only', 'Market', 'order_count', 'day_of_week', 'month', 'is_weekend']\n",
    "print(processed_data[display_cols].head(10))"
   ]
  },
  {
   "cell_type": "code",
   "execution_count": 31,
   "id": "5f6219ce",
   "metadata": {},
   "outputs": [
    {
     "name": "stdout",
     "output_type": "stream",
     "text": [
      "📈 Creating daily order trend visualization...\n"
     ]
    },
    {
     "data": {
      "application/vnd.plotly.v1+json": {
       "config": {
        "plotlyServerURL": "https://plot.ly"
       },
       "data": [
        {
         "hovertemplate": "Market=Europe<br>Date=%{x}<br>Daily Order Count=%{y}<extra></extra>",
         "legendgroup": "Europe",
         "line": {
          "color": "#2ca02c",
          "dash": "solid"
         },
         "marker": {
          "symbol": "circle"
         },
         "mode": "lines",
         "name": "Europe",
         "orientation": "v",
         "showlegend": true,
         "type": "scatter",
         "x": [
          "2017-05-22T00:00:00.000000000",
          "2017-05-23T00:00:00.000000000",
          "2017-05-24T00:00:00.000000000",
          "2017-05-25T00:00:00.000000000",
          "2017-05-26T00:00:00.000000000",
          "2017-05-27T00:00:00.000000000",
          "2017-05-28T00:00:00.000000000",
          "2017-05-29T00:00:00.000000000",
          "2017-05-30T00:00:00.000000000",
          "2017-05-31T00:00:00.000000000",
          "2017-06-01T00:00:00.000000000",
          "2017-06-02T00:00:00.000000000",
          "2017-06-03T00:00:00.000000000",
          "2017-06-04T00:00:00.000000000",
          "2017-06-05T00:00:00.000000000",
          "2017-06-06T00:00:00.000000000",
          "2017-06-07T00:00:00.000000000",
          "2017-06-08T00:00:00.000000000",
          "2017-06-09T00:00:00.000000000",
          "2017-06-10T00:00:00.000000000",
          "2017-06-11T00:00:00.000000000",
          "2017-06-12T00:00:00.000000000",
          "2017-06-13T00:00:00.000000000",
          "2017-06-14T00:00:00.000000000",
          "2017-06-15T00:00:00.000000000",
          "2017-06-16T00:00:00.000000000",
          "2017-06-17T00:00:00.000000000",
          "2017-06-18T00:00:00.000000000",
          "2017-06-19T00:00:00.000000000",
          "2017-06-20T00:00:00.000000000",
          "2017-06-21T00:00:00.000000000",
          "2017-06-22T00:00:00.000000000",
          "2017-06-23T00:00:00.000000000",
          "2017-06-24T00:00:00.000000000",
          "2017-06-25T00:00:00.000000000",
          "2017-06-26T00:00:00.000000000",
          "2017-06-27T00:00:00.000000000",
          "2017-06-28T00:00:00.000000000",
          "2017-06-29T00:00:00.000000000",
          "2017-06-30T00:00:00.000000000",
          "2017-07-01T00:00:00.000000000",
          "2017-07-02T00:00:00.000000000",
          "2017-07-03T00:00:00.000000000",
          "2017-07-04T00:00:00.000000000",
          "2017-07-05T00:00:00.000000000",
          "2017-07-06T00:00:00.000000000",
          "2017-07-07T00:00:00.000000000",
          "2017-07-08T00:00:00.000000000",
          "2017-07-09T00:00:00.000000000",
          "2017-07-10T00:00:00.000000000",
          "2017-07-11T00:00:00.000000000",
          "2017-07-12T00:00:00.000000000",
          "2017-07-13T00:00:00.000000000",
          "2017-07-14T00:00:00.000000000",
          "2017-07-15T00:00:00.000000000",
          "2017-07-16T00:00:00.000000000",
          "2017-07-17T00:00:00.000000000",
          "2017-07-18T00:00:00.000000000",
          "2017-07-19T00:00:00.000000000",
          "2017-07-20T00:00:00.000000000",
          "2017-07-21T00:00:00.000000000",
          "2017-07-22T00:00:00.000000000",
          "2017-07-23T00:00:00.000000000",
          "2017-07-24T00:00:00.000000000",
          "2017-07-25T00:00:00.000000000",
          "2017-07-26T00:00:00.000000000",
          "2017-07-27T00:00:00.000000000",
          "2017-07-28T00:00:00.000000000",
          "2017-07-29T00:00:00.000000000",
          "2017-07-30T00:00:00.000000000",
          "2017-07-31T00:00:00.000000000",
          "2017-08-01T00:00:00.000000000",
          "2017-08-02T00:00:00.000000000",
          "2017-08-03T00:00:00.000000000",
          "2017-08-04T00:00:00.000000000",
          "2017-08-05T00:00:00.000000000",
          "2017-08-06T00:00:00.000000000",
          "2017-08-07T00:00:00.000000000",
          "2017-08-08T00:00:00.000000000",
          "2017-08-09T00:00:00.000000000",
          "2017-08-10T00:00:00.000000000",
          "2017-08-11T00:00:00.000000000",
          "2017-08-12T00:00:00.000000000",
          "2017-08-13T00:00:00.000000000",
          "2017-08-14T00:00:00.000000000",
          "2017-08-15T00:00:00.000000000",
          "2017-08-16T00:00:00.000000000",
          "2017-08-17T00:00:00.000000000",
          "2017-08-18T00:00:00.000000000",
          "2017-08-19T00:00:00.000000000",
          "2017-08-20T00:00:00.000000000",
          "2017-08-21T00:00:00.000000000",
          "2017-08-22T00:00:00.000000000",
          "2017-08-23T00:00:00.000000000",
          "2017-08-24T00:00:00.000000000",
          "2017-08-25T00:00:00.000000000",
          "2017-08-26T00:00:00.000000000",
          "2017-08-27T00:00:00.000000000",
          "2017-08-28T00:00:00.000000000",
          "2017-08-29T00:00:00.000000000",
          "2017-08-30T00:00:00.000000000",
          "2017-08-31T00:00:00.000000000",
          "2017-09-01T00:00:00.000000000",
          "2017-09-02T00:00:00.000000000",
          "2017-09-03T00:00:00.000000000",
          "2017-09-04T00:00:00.000000000",
          "2017-09-05T00:00:00.000000000",
          "2017-09-06T00:00:00.000000000",
          "2017-09-07T00:00:00.000000000",
          "2017-09-08T00:00:00.000000000",
          "2017-09-09T00:00:00.000000000",
          "2017-09-10T00:00:00.000000000",
          "2017-09-11T00:00:00.000000000",
          "2017-09-12T00:00:00.000000000",
          "2017-09-13T00:00:00.000000000",
          "2017-09-14T00:00:00.000000000",
          "2017-09-15T00:00:00.000000000",
          "2017-09-16T00:00:00.000000000",
          "2017-09-17T00:00:00.000000000",
          "2017-09-18T00:00:00.000000000",
          "2017-09-19T00:00:00.000000000",
          "2017-09-20T00:00:00.000000000",
          "2017-09-21T00:00:00.000000000",
          "2017-09-22T00:00:00.000000000",
          "2017-09-23T00:00:00.000000000",
          "2017-09-24T00:00:00.000000000",
          "2017-09-25T00:00:00.000000000",
          "2017-09-26T00:00:00.000000000",
          "2017-09-27T00:00:00.000000000",
          "2017-09-28T00:00:00.000000000",
          "2017-09-29T00:00:00.000000000",
          "2017-09-30T00:00:00.000000000",
          "2017-10-01T00:00:00.000000000",
          "2017-10-02T00:00:00.000000000",
          "2017-10-03T00:00:00.000000000",
          "2017-10-04T00:00:00.000000000",
          "2017-10-05T00:00:00.000000000",
          "2017-10-06T00:00:00.000000000",
          "2017-10-07T00:00:00.000000000",
          "2017-10-08T00:00:00.000000000",
          "2017-10-09T00:00:00.000000000",
          "2017-10-10T00:00:00.000000000",
          "2017-10-11T00:00:00.000000000",
          "2017-10-12T00:00:00.000000000",
          "2017-10-13T00:00:00.000000000",
          "2017-10-14T00:00:00.000000000",
          "2017-10-15T00:00:00.000000000",
          "2017-10-16T00:00:00.000000000",
          "2017-10-17T00:00:00.000000000",
          "2017-10-18T00:00:00.000000000",
          "2017-10-19T00:00:00.000000000",
          "2017-10-20T00:00:00.000000000",
          "2017-10-21T00:00:00.000000000",
          "2017-10-22T00:00:00.000000000",
          "2017-10-23T00:00:00.000000000",
          "2017-10-24T00:00:00.000000000",
          "2017-10-25T00:00:00.000000000",
          "2017-10-26T00:00:00.000000000",
          "2017-10-27T00:00:00.000000000",
          "2017-10-28T00:00:00.000000000",
          "2017-10-29T00:00:00.000000000",
          "2017-10-30T00:00:00.000000000",
          "2017-10-31T00:00:00.000000000",
          "2017-11-01T00:00:00.000000000",
          "2017-11-02T00:00:00.000000000",
          "2017-11-03T00:00:00.000000000",
          "2017-11-04T00:00:00.000000000",
          "2017-11-05T00:00:00.000000000",
          "2017-11-06T00:00:00.000000000",
          "2017-11-07T00:00:00.000000000",
          "2017-11-08T00:00:00.000000000",
          "2017-11-09T00:00:00.000000000",
          "2017-11-10T00:00:00.000000000",
          "2017-11-11T00:00:00.000000000",
          "2017-11-12T00:00:00.000000000",
          "2017-11-13T00:00:00.000000000",
          "2017-11-14T00:00:00.000000000",
          "2017-11-15T00:00:00.000000000",
          "2017-11-16T00:00:00.000000000",
          "2017-11-17T00:00:00.000000000",
          "2017-11-18T00:00:00.000000000",
          "2017-11-19T00:00:00.000000000",
          "2017-11-20T00:00:00.000000000",
          "2017-11-21T00:00:00.000000000",
          "2017-11-22T00:00:00.000000000",
          "2017-11-23T00:00:00.000000000",
          "2017-11-24T00:00:00.000000000",
          "2017-11-25T00:00:00.000000000",
          "2017-11-26T00:00:00.000000000",
          "2017-11-27T00:00:00.000000000",
          "2017-11-28T00:00:00.000000000",
          "2017-11-29T00:00:00.000000000",
          "2017-11-30T00:00:00.000000000",
          "2017-12-01T00:00:00.000000000",
          "2017-12-02T00:00:00.000000000",
          "2017-12-03T00:00:00.000000000",
          "2017-12-04T00:00:00.000000000",
          "2017-12-05T00:00:00.000000000",
          "2017-12-06T00:00:00.000000000",
          "2017-12-07T00:00:00.000000000",
          "2017-12-08T00:00:00.000000000",
          "2017-12-09T00:00:00.000000000",
          "2017-12-10T00:00:00.000000000",
          "2017-12-11T00:00:00.000000000",
          "2017-12-12T00:00:00.000000000",
          "2017-12-13T00:00:00.000000000",
          "2017-12-14T00:00:00.000000000",
          "2017-12-15T00:00:00.000000000",
          "2017-12-16T00:00:00.000000000",
          "2017-12-17T00:00:00.000000000",
          "2017-12-18T00:00:00.000000000",
          "2017-12-19T00:00:00.000000000",
          "2017-12-20T00:00:00.000000000",
          "2017-12-21T00:00:00.000000000",
          "2017-12-22T00:00:00.000000000",
          "2017-12-23T00:00:00.000000000",
          "2017-12-24T00:00:00.000000000",
          "2017-12-25T00:00:00.000000000",
          "2017-12-26T00:00:00.000000000",
          "2017-12-27T00:00:00.000000000",
          "2017-12-28T00:00:00.000000000",
          "2017-12-29T00:00:00.000000000",
          "2017-12-30T00:00:00.000000000",
          "2017-12-31T00:00:00.000000000",
          "2018-01-01T00:00:00.000000000",
          "2018-01-02T00:00:00.000000000",
          "2018-01-03T00:00:00.000000000",
          "2018-01-04T00:00:00.000000000",
          "2018-01-05T00:00:00.000000000",
          "2018-01-06T00:00:00.000000000",
          "2018-01-07T00:00:00.000000000",
          "2018-01-08T00:00:00.000000000",
          "2018-01-09T00:00:00.000000000",
          "2018-01-10T00:00:00.000000000",
          "2018-01-11T00:00:00.000000000",
          "2018-01-12T00:00:00.000000000",
          "2018-01-13T00:00:00.000000000",
          "2018-01-14T00:00:00.000000000",
          "2018-01-15T00:00:00.000000000",
          "2018-01-16T00:00:00.000000000",
          "2018-01-17T00:00:00.000000000",
          "2018-01-18T00:00:00.000000000",
          "2018-01-19T00:00:00.000000000",
          "2018-01-20T00:00:00.000000000",
          "2018-01-21T00:00:00.000000000",
          "2018-01-22T00:00:00.000000000",
          "2018-01-23T00:00:00.000000000",
          "2018-01-24T00:00:00.000000000",
          "2018-01-25T00:00:00.000000000",
          "2018-01-26T00:00:00.000000000",
          "2018-01-27T00:00:00.000000000",
          "2018-01-28T00:00:00.000000000",
          "2018-01-29T00:00:00.000000000",
          "2018-01-30T00:00:00.000000000",
          "2018-01-31T00:00:00.000000000"
         ],
         "xaxis": "x",
         "y": {
          "bdata": "tgC4ALYAoACvAJgAowCrAMoAqAClAI4AlwCuALQArQC3AKsAmgCrALUArgChAJsAqAC9AKgApQCgALUAsACmALkAsgCbAKcAmwCsAKcAuACtALAAsACjALEAsQC2AKsApQCtAJ0AvACJAKMArACsALYAlwDDAJ8AmACtAKcAtwCqAL0AvACrALQAhwCcAKwAngCxAKMAnwCwALAAtgCYAKwAlwCzAKoAoQCwAMgApQCnALAAvAC2ALUAowCyAKYAvACwAL4AqgCqAKsAkgCpALYArACnAJQAtwCeAK0ApQC4AKsAtQC2AKUAogCwALcApwCcALIAyQCtALQAmACbAK8AlAC9AL8AkgCxAKoAuwCpAKsAnACjALkAsgCkAKgAkwCdAKsAqwCrAKsAiwCmAJYAsQCyAMMArgCnAK0AsACOAJ8AmAClAKsAtwCjALsAswC9AJUAngCRAMsAqQCpAJQArgCbAKoAsACjALYAsADGALAArACuAJgAkgC4AKEAqACkALEArACqALYAuACTAJUApACvAK4AvACaALUApQCkAKcAtACqAJ8ArADBALYAugC4AI8AwwCnAKEAngC0AKIAtACtALcAowCyAKUAkgCoAK8AugC+AL4AtACsAKUAqgCxAJwAqQC7ALUAmwClALEAswDHAIwApgCwALIA",
          "dtype": "i2"
         },
         "yaxis": "y"
        },
        {
         "hovertemplate": "Market=LATAM<br>Date=%{x}<br>Daily Order Count=%{y}<extra></extra>",
         "legendgroup": "LATAM",
         "line": {
          "color": "#ff7f0e",
          "dash": "solid"
         },
         "marker": {
          "symbol": "circle"
         },
         "mode": "lines",
         "name": "LATAM",
         "orientation": "v",
         "showlegend": true,
         "type": "scatter",
         "x": [
          "2017-05-22T00:00:00.000000000",
          "2017-05-23T00:00:00.000000000",
          "2017-05-24T00:00:00.000000000",
          "2017-05-25T00:00:00.000000000",
          "2017-05-26T00:00:00.000000000",
          "2017-05-27T00:00:00.000000000",
          "2017-05-28T00:00:00.000000000",
          "2017-05-29T00:00:00.000000000",
          "2017-05-30T00:00:00.000000000",
          "2017-05-31T00:00:00.000000000",
          "2017-06-01T00:00:00.000000000",
          "2017-06-02T00:00:00.000000000",
          "2017-06-03T00:00:00.000000000",
          "2017-06-04T00:00:00.000000000",
          "2017-06-05T00:00:00.000000000",
          "2017-06-06T00:00:00.000000000",
          "2017-06-07T00:00:00.000000000",
          "2017-06-08T00:00:00.000000000",
          "2017-06-09T00:00:00.000000000",
          "2017-06-10T00:00:00.000000000",
          "2017-06-11T00:00:00.000000000",
          "2017-06-12T00:00:00.000000000",
          "2017-06-13T00:00:00.000000000",
          "2017-06-14T00:00:00.000000000",
          "2017-06-15T00:00:00.000000000",
          "2017-06-16T00:00:00.000000000",
          "2017-06-17T00:00:00.000000000",
          "2017-06-18T00:00:00.000000000",
          "2017-06-19T00:00:00.000000000",
          "2017-06-20T00:00:00.000000000",
          "2017-06-21T00:00:00.000000000",
          "2017-06-22T00:00:00.000000000",
          "2017-06-23T00:00:00.000000000",
          "2017-06-24T00:00:00.000000000",
          "2017-06-25T00:00:00.000000000",
          "2017-06-26T00:00:00.000000000",
          "2017-06-27T00:00:00.000000000",
          "2017-06-28T00:00:00.000000000",
          "2017-06-29T00:00:00.000000000",
          "2017-06-30T00:00:00.000000000",
          "2017-07-01T00:00:00.000000000",
          "2017-07-02T00:00:00.000000000",
          "2017-07-03T00:00:00.000000000",
          "2017-07-04T00:00:00.000000000",
          "2017-07-05T00:00:00.000000000",
          "2017-07-06T00:00:00.000000000",
          "2017-07-07T00:00:00.000000000",
          "2017-07-08T00:00:00.000000000",
          "2017-07-09T00:00:00.000000000",
          "2017-07-10T00:00:00.000000000",
          "2017-07-11T00:00:00.000000000",
          "2017-07-12T00:00:00.000000000",
          "2017-07-13T00:00:00.000000000",
          "2017-07-14T00:00:00.000000000",
          "2017-07-15T00:00:00.000000000",
          "2017-07-16T00:00:00.000000000",
          "2017-07-17T00:00:00.000000000",
          "2017-07-18T00:00:00.000000000",
          "2017-07-19T00:00:00.000000000",
          "2017-07-20T00:00:00.000000000",
          "2017-07-21T00:00:00.000000000",
          "2017-07-22T00:00:00.000000000",
          "2017-07-23T00:00:00.000000000",
          "2017-07-24T00:00:00.000000000",
          "2017-07-25T00:00:00.000000000",
          "2017-07-26T00:00:00.000000000",
          "2017-07-27T00:00:00.000000000",
          "2017-07-28T00:00:00.000000000",
          "2017-07-29T00:00:00.000000000",
          "2017-07-30T00:00:00.000000000",
          "2017-07-31T00:00:00.000000000",
          "2017-08-01T00:00:00.000000000",
          "2017-08-02T00:00:00.000000000",
          "2017-08-03T00:00:00.000000000",
          "2017-08-04T00:00:00.000000000",
          "2017-08-05T00:00:00.000000000",
          "2017-08-06T00:00:00.000000000",
          "2017-08-07T00:00:00.000000000",
          "2017-08-08T00:00:00.000000000",
          "2017-08-09T00:00:00.000000000",
          "2017-08-10T00:00:00.000000000",
          "2017-08-11T00:00:00.000000000",
          "2017-08-12T00:00:00.000000000",
          "2017-08-13T00:00:00.000000000",
          "2017-08-14T00:00:00.000000000",
          "2017-08-15T00:00:00.000000000",
          "2017-08-16T00:00:00.000000000",
          "2017-08-17T00:00:00.000000000",
          "2017-08-18T00:00:00.000000000",
          "2017-08-19T00:00:00.000000000",
          "2017-08-20T00:00:00.000000000",
          "2017-08-21T00:00:00.000000000",
          "2017-08-22T00:00:00.000000000",
          "2017-08-23T00:00:00.000000000",
          "2017-08-24T00:00:00.000000000",
          "2017-08-25T00:00:00.000000000",
          "2017-08-26T00:00:00.000000000",
          "2017-08-27T00:00:00.000000000",
          "2017-08-28T00:00:00.000000000",
          "2017-08-29T00:00:00.000000000",
          "2017-08-30T00:00:00.000000000",
          "2017-08-31T00:00:00.000000000",
          "2017-09-01T00:00:00.000000000",
          "2017-09-02T00:00:00.000000000",
          "2017-09-03T00:00:00.000000000",
          "2017-09-04T00:00:00.000000000",
          "2017-09-05T00:00:00.000000000",
          "2017-09-06T00:00:00.000000000",
          "2017-09-07T00:00:00.000000000",
          "2017-09-08T00:00:00.000000000",
          "2017-09-09T00:00:00.000000000",
          "2017-09-10T00:00:00.000000000",
          "2017-09-11T00:00:00.000000000",
          "2017-09-12T00:00:00.000000000",
          "2017-09-13T00:00:00.000000000",
          "2017-09-14T00:00:00.000000000",
          "2017-09-15T00:00:00.000000000",
          "2017-09-16T00:00:00.000000000",
          "2017-09-17T00:00:00.000000000",
          "2017-09-18T00:00:00.000000000",
          "2017-09-19T00:00:00.000000000",
          "2017-09-20T00:00:00.000000000",
          "2017-09-21T00:00:00.000000000",
          "2017-09-22T00:00:00.000000000",
          "2017-09-23T00:00:00.000000000",
          "2017-09-24T00:00:00.000000000",
          "2017-09-25T00:00:00.000000000",
          "2017-09-26T00:00:00.000000000",
          "2017-09-27T00:00:00.000000000",
          "2017-09-28T00:00:00.000000000",
          "2017-09-29T00:00:00.000000000",
          "2017-09-30T00:00:00.000000000",
          "2017-10-01T00:00:00.000000000",
          "2017-10-02T00:00:00.000000000",
          "2017-10-03T00:00:00.000000000",
          "2017-10-04T00:00:00.000000000",
          "2017-10-05T00:00:00.000000000",
          "2017-10-06T00:00:00.000000000",
          "2017-10-07T00:00:00.000000000",
          "2017-10-08T00:00:00.000000000",
          "2017-10-09T00:00:00.000000000",
          "2017-10-10T00:00:00.000000000",
          "2017-10-11T00:00:00.000000000",
          "2017-10-12T00:00:00.000000000",
          "2017-10-13T00:00:00.000000000",
          "2017-10-14T00:00:00.000000000",
          "2017-10-15T00:00:00.000000000",
          "2017-10-16T00:00:00.000000000",
          "2017-10-17T00:00:00.000000000",
          "2017-10-18T00:00:00.000000000",
          "2017-10-19T00:00:00.000000000",
          "2017-10-20T00:00:00.000000000",
          "2017-10-21T00:00:00.000000000",
          "2017-10-22T00:00:00.000000000",
          "2017-10-23T00:00:00.000000000",
          "2017-10-24T00:00:00.000000000",
          "2017-10-25T00:00:00.000000000",
          "2017-10-26T00:00:00.000000000",
          "2017-10-27T00:00:00.000000000",
          "2017-10-28T00:00:00.000000000",
          "2017-10-29T00:00:00.000000000",
          "2017-10-30T00:00:00.000000000",
          "2017-10-31T00:00:00.000000000",
          "2017-11-01T00:00:00.000000000",
          "2017-11-02T00:00:00.000000000",
          "2017-11-03T00:00:00.000000000",
          "2017-11-04T00:00:00.000000000",
          "2017-11-05T00:00:00.000000000",
          "2017-11-06T00:00:00.000000000",
          "2017-11-07T00:00:00.000000000",
          "2017-11-08T00:00:00.000000000",
          "2017-11-09T00:00:00.000000000",
          "2017-11-10T00:00:00.000000000",
          "2017-11-11T00:00:00.000000000",
          "2017-11-12T00:00:00.000000000",
          "2017-11-13T00:00:00.000000000",
          "2017-11-14T00:00:00.000000000",
          "2017-11-15T00:00:00.000000000",
          "2017-11-16T00:00:00.000000000",
          "2017-11-17T00:00:00.000000000",
          "2017-11-18T00:00:00.000000000",
          "2017-11-19T00:00:00.000000000",
          "2017-11-20T00:00:00.000000000",
          "2017-11-21T00:00:00.000000000",
          "2017-11-22T00:00:00.000000000",
          "2017-11-23T00:00:00.000000000",
          "2017-11-24T00:00:00.000000000",
          "2017-11-25T00:00:00.000000000",
          "2017-11-26T00:00:00.000000000",
          "2017-11-27T00:00:00.000000000",
          "2017-11-28T00:00:00.000000000",
          "2017-11-29T00:00:00.000000000",
          "2017-11-30T00:00:00.000000000",
          "2017-12-01T00:00:00.000000000",
          "2017-12-02T00:00:00.000000000",
          "2017-12-03T00:00:00.000000000",
          "2017-12-04T00:00:00.000000000",
          "2017-12-05T00:00:00.000000000",
          "2017-12-06T00:00:00.000000000",
          "2017-12-07T00:00:00.000000000",
          "2017-12-08T00:00:00.000000000",
          "2017-12-09T00:00:00.000000000",
          "2017-12-10T00:00:00.000000000",
          "2017-12-11T00:00:00.000000000",
          "2017-12-12T00:00:00.000000000",
          "2017-12-13T00:00:00.000000000",
          "2017-12-14T00:00:00.000000000",
          "2017-12-15T00:00:00.000000000",
          "2017-12-16T00:00:00.000000000",
          "2017-12-17T00:00:00.000000000",
          "2017-12-18T00:00:00.000000000",
          "2017-12-19T00:00:00.000000000",
          "2017-12-20T00:00:00.000000000",
          "2017-12-21T00:00:00.000000000",
          "2017-12-22T00:00:00.000000000",
          "2017-12-23T00:00:00.000000000",
          "2017-12-24T00:00:00.000000000",
          "2017-12-25T00:00:00.000000000",
          "2017-12-26T00:00:00.000000000",
          "2017-12-27T00:00:00.000000000",
          "2017-12-28T00:00:00.000000000",
          "2017-12-29T00:00:00.000000000",
          "2017-12-30T00:00:00.000000000",
          "2017-12-31T00:00:00.000000000",
          "2018-01-01T00:00:00.000000000",
          "2018-01-02T00:00:00.000000000",
          "2018-01-03T00:00:00.000000000",
          "2018-01-04T00:00:00.000000000",
          "2018-01-05T00:00:00.000000000",
          "2018-01-06T00:00:00.000000000",
          "2018-01-07T00:00:00.000000000",
          "2018-01-08T00:00:00.000000000",
          "2018-01-09T00:00:00.000000000",
          "2018-01-10T00:00:00.000000000",
          "2018-01-11T00:00:00.000000000",
          "2018-01-12T00:00:00.000000000",
          "2018-01-13T00:00:00.000000000",
          "2018-01-14T00:00:00.000000000",
          "2018-01-15T00:00:00.000000000",
          "2018-01-16T00:00:00.000000000",
          "2018-01-17T00:00:00.000000000",
          "2018-01-18T00:00:00.000000000",
          "2018-01-19T00:00:00.000000000",
          "2018-01-20T00:00:00.000000000",
          "2018-01-21T00:00:00.000000000",
          "2018-01-22T00:00:00.000000000",
          "2018-01-23T00:00:00.000000000",
          "2018-01-24T00:00:00.000000000",
          "2018-01-25T00:00:00.000000000",
          "2018-01-26T00:00:00.000000000",
          "2018-01-27T00:00:00.000000000",
          "2018-01-28T00:00:00.000000000",
          "2018-01-29T00:00:00.000000000",
          "2018-01-30T00:00:00.000000000",
          "2018-01-31T00:00:00.000000000"
         ],
         "xaxis": "x",
         "y": {
          "bdata": "pACiAKsAoQC+AKgAqgClAKwArACcALUAxgC7AL4AuQCrAKUAuACuALcApACNALUArAC4AJQAnwCnAKkAvACNAK4ArAChAJ4AoQCnAJ8AtQC/AM8AtADCAKcAtACkAJwAlwCyAKoAswDIALAArwCjALIAogC4ALYAnADLAKoArgCtAJYArgCbALEAqQCYALUAsACsAKgApgCnAJwArQC1AKgAuACNAK0AnwC4AL8ApgCaALEAwgC7AKQAmQC1AKQAowDAAKQArQCsAL8A0QCrAKsAowC9AKUAngChAKQAqAC1AKAAsQCjAKUAqwC6ALkAuQC0ALIAswC3ALMApgC4AJcAkQCqAIoAsAClAKgAvACwAL4AxACzAK8AswC1AK8AowC6AKQArQDCAKcArwCvAL4AlwCvAL8AoQCrAKoAowCbAMcApQCtALwAqgCkAKkAtQCQAKkAoACdAKsAzgC1AK8AqwCrALYArwCzAI8ArAClAM0AkgCuAMUAmgCrALUApQC1ALIAtwCWALgAtwC4AKcAqQCuALUAqgCmAL8AtgDJAJ8AnwC/AKsAtgCiAL0AqQCdAKIArACwAMsArwCUAJ8ApQCgAJoAqwCcAKsAuwCgAKAAqwCyAM0AoADBALYAsgCcAJ0AmQCbAJ8AmQCeAL0AowC9AKMAhgCdAJ4A",
          "dtype": "i2"
         },
         "yaxis": "y"
        },
        {
         "hovertemplate": "Market=USCA<br>Date=%{x}<br>Daily Order Count=%{y}<extra></extra>",
         "legendgroup": "USCA",
         "line": {
          "color": "#1f77b4",
          "dash": "solid"
         },
         "marker": {
          "symbol": "circle"
         },
         "mode": "lines",
         "name": "USCA",
         "orientation": "v",
         "showlegend": true,
         "type": "scatter",
         "x": [
          "2017-05-22T00:00:00.000000000",
          "2017-05-23T00:00:00.000000000",
          "2017-05-24T00:00:00.000000000",
          "2017-05-25T00:00:00.000000000",
          "2017-05-26T00:00:00.000000000",
          "2017-05-27T00:00:00.000000000",
          "2017-05-28T00:00:00.000000000",
          "2017-05-29T00:00:00.000000000",
          "2017-05-30T00:00:00.000000000",
          "2017-05-31T00:00:00.000000000",
          "2017-06-01T00:00:00.000000000",
          "2017-06-02T00:00:00.000000000",
          "2017-06-03T00:00:00.000000000",
          "2017-06-04T00:00:00.000000000",
          "2017-06-05T00:00:00.000000000",
          "2017-06-06T00:00:00.000000000",
          "2017-06-07T00:00:00.000000000",
          "2017-06-08T00:00:00.000000000",
          "2017-06-09T00:00:00.000000000",
          "2017-06-10T00:00:00.000000000",
          "2017-06-11T00:00:00.000000000",
          "2017-06-12T00:00:00.000000000",
          "2017-06-13T00:00:00.000000000",
          "2017-06-14T00:00:00.000000000",
          "2017-06-15T00:00:00.000000000",
          "2017-06-16T00:00:00.000000000",
          "2017-06-17T00:00:00.000000000",
          "2017-06-18T00:00:00.000000000",
          "2017-06-19T00:00:00.000000000",
          "2017-06-20T00:00:00.000000000",
          "2017-06-21T00:00:00.000000000",
          "2017-06-22T00:00:00.000000000",
          "2017-06-23T00:00:00.000000000",
          "2017-06-24T00:00:00.000000000",
          "2017-06-25T00:00:00.000000000",
          "2017-06-26T00:00:00.000000000",
          "2017-06-27T00:00:00.000000000",
          "2017-06-28T00:00:00.000000000",
          "2017-06-29T00:00:00.000000000",
          "2017-06-30T00:00:00.000000000",
          "2017-07-01T00:00:00.000000000",
          "2017-07-02T00:00:00.000000000",
          "2017-07-03T00:00:00.000000000",
          "2017-07-04T00:00:00.000000000",
          "2017-07-05T00:00:00.000000000",
          "2017-07-06T00:00:00.000000000",
          "2017-07-07T00:00:00.000000000",
          "2017-07-08T00:00:00.000000000",
          "2017-07-09T00:00:00.000000000",
          "2017-07-10T00:00:00.000000000",
          "2017-07-11T00:00:00.000000000",
          "2017-07-12T00:00:00.000000000",
          "2017-07-13T00:00:00.000000000",
          "2017-07-14T00:00:00.000000000",
          "2017-07-15T00:00:00.000000000",
          "2017-07-16T00:00:00.000000000",
          "2017-07-17T00:00:00.000000000",
          "2017-07-18T00:00:00.000000000",
          "2017-07-19T00:00:00.000000000",
          "2017-07-20T00:00:00.000000000",
          "2017-07-21T00:00:00.000000000",
          "2017-07-22T00:00:00.000000000",
          "2017-07-23T00:00:00.000000000",
          "2017-07-24T00:00:00.000000000",
          "2017-07-25T00:00:00.000000000",
          "2017-07-26T00:00:00.000000000",
          "2017-07-27T00:00:00.000000000",
          "2017-07-28T00:00:00.000000000",
          "2017-07-29T00:00:00.000000000",
          "2017-07-30T00:00:00.000000000",
          "2017-07-31T00:00:00.000000000",
          "2017-08-01T00:00:00.000000000",
          "2017-08-02T00:00:00.000000000",
          "2017-08-03T00:00:00.000000000",
          "2017-08-04T00:00:00.000000000",
          "2017-08-05T00:00:00.000000000",
          "2017-08-06T00:00:00.000000000",
          "2017-08-07T00:00:00.000000000",
          "2017-08-08T00:00:00.000000000",
          "2017-08-09T00:00:00.000000000",
          "2017-08-10T00:00:00.000000000",
          "2017-08-11T00:00:00.000000000",
          "2017-08-12T00:00:00.000000000",
          "2017-08-13T00:00:00.000000000",
          "2017-08-14T00:00:00.000000000",
          "2017-08-15T00:00:00.000000000",
          "2017-08-16T00:00:00.000000000",
          "2017-08-17T00:00:00.000000000",
          "2017-08-18T00:00:00.000000000",
          "2017-08-19T00:00:00.000000000",
          "2017-08-20T00:00:00.000000000",
          "2017-08-21T00:00:00.000000000",
          "2017-08-22T00:00:00.000000000",
          "2017-08-23T00:00:00.000000000",
          "2017-08-24T00:00:00.000000000",
          "2017-08-25T00:00:00.000000000",
          "2017-08-26T00:00:00.000000000",
          "2017-08-27T00:00:00.000000000",
          "2017-08-28T00:00:00.000000000",
          "2017-08-29T00:00:00.000000000",
          "2017-08-30T00:00:00.000000000",
          "2017-08-31T00:00:00.000000000",
          "2017-09-01T00:00:00.000000000",
          "2017-09-02T00:00:00.000000000",
          "2017-09-03T00:00:00.000000000",
          "2017-09-04T00:00:00.000000000",
          "2017-09-05T00:00:00.000000000",
          "2017-09-06T00:00:00.000000000",
          "2017-09-07T00:00:00.000000000",
          "2017-09-08T00:00:00.000000000",
          "2017-09-09T00:00:00.000000000",
          "2017-09-10T00:00:00.000000000",
          "2017-09-11T00:00:00.000000000",
          "2017-09-12T00:00:00.000000000",
          "2017-09-13T00:00:00.000000000",
          "2017-09-14T00:00:00.000000000",
          "2017-09-15T00:00:00.000000000",
          "2017-09-16T00:00:00.000000000",
          "2017-09-17T00:00:00.000000000",
          "2017-09-18T00:00:00.000000000",
          "2017-09-19T00:00:00.000000000",
          "2017-09-20T00:00:00.000000000",
          "2017-09-21T00:00:00.000000000",
          "2017-09-22T00:00:00.000000000",
          "2017-09-23T00:00:00.000000000",
          "2017-09-24T00:00:00.000000000",
          "2017-09-25T00:00:00.000000000",
          "2017-09-26T00:00:00.000000000",
          "2017-09-27T00:00:00.000000000",
          "2017-09-28T00:00:00.000000000",
          "2017-09-29T00:00:00.000000000",
          "2017-09-30T00:00:00.000000000",
          "2017-10-01T00:00:00.000000000",
          "2017-10-02T00:00:00.000000000",
          "2017-10-03T00:00:00.000000000",
          "2017-10-04T00:00:00.000000000",
          "2017-10-05T00:00:00.000000000",
          "2017-10-06T00:00:00.000000000",
          "2017-10-07T00:00:00.000000000",
          "2017-10-08T00:00:00.000000000",
          "2017-10-09T00:00:00.000000000",
          "2017-10-10T00:00:00.000000000",
          "2017-10-11T00:00:00.000000000",
          "2017-10-12T00:00:00.000000000",
          "2017-10-13T00:00:00.000000000",
          "2017-10-14T00:00:00.000000000",
          "2017-10-15T00:00:00.000000000",
          "2017-10-16T00:00:00.000000000",
          "2017-10-17T00:00:00.000000000",
          "2017-10-18T00:00:00.000000000",
          "2017-10-19T00:00:00.000000000",
          "2017-10-20T00:00:00.000000000",
          "2017-10-21T00:00:00.000000000",
          "2017-10-22T00:00:00.000000000",
          "2017-10-23T00:00:00.000000000",
          "2017-10-24T00:00:00.000000000",
          "2017-10-25T00:00:00.000000000",
          "2017-10-26T00:00:00.000000000",
          "2017-10-27T00:00:00.000000000",
          "2017-10-28T00:00:00.000000000",
          "2017-10-29T00:00:00.000000000",
          "2017-10-30T00:00:00.000000000",
          "2017-10-31T00:00:00.000000000",
          "2017-11-01T00:00:00.000000000",
          "2017-11-02T00:00:00.000000000",
          "2017-11-03T00:00:00.000000000",
          "2017-11-04T00:00:00.000000000",
          "2017-11-05T00:00:00.000000000",
          "2017-11-06T00:00:00.000000000",
          "2017-11-07T00:00:00.000000000",
          "2017-11-08T00:00:00.000000000",
          "2017-11-09T00:00:00.000000000",
          "2017-11-10T00:00:00.000000000",
          "2017-11-11T00:00:00.000000000",
          "2017-11-12T00:00:00.000000000",
          "2017-11-13T00:00:00.000000000",
          "2017-11-14T00:00:00.000000000",
          "2017-11-15T00:00:00.000000000",
          "2017-11-16T00:00:00.000000000",
          "2017-11-17T00:00:00.000000000",
          "2017-11-18T00:00:00.000000000",
          "2017-11-19T00:00:00.000000000",
          "2017-11-20T00:00:00.000000000",
          "2017-11-21T00:00:00.000000000",
          "2017-11-22T00:00:00.000000000",
          "2017-11-23T00:00:00.000000000",
          "2017-11-24T00:00:00.000000000",
          "2017-11-25T00:00:00.000000000",
          "2017-11-26T00:00:00.000000000",
          "2017-11-27T00:00:00.000000000",
          "2017-11-28T00:00:00.000000000",
          "2017-11-29T00:00:00.000000000",
          "2017-11-30T00:00:00.000000000",
          "2017-12-01T00:00:00.000000000",
          "2017-12-02T00:00:00.000000000",
          "2017-12-03T00:00:00.000000000",
          "2017-12-04T00:00:00.000000000",
          "2017-12-05T00:00:00.000000000",
          "2017-12-06T00:00:00.000000000",
          "2017-12-07T00:00:00.000000000",
          "2017-12-08T00:00:00.000000000",
          "2017-12-09T00:00:00.000000000",
          "2017-12-10T00:00:00.000000000",
          "2017-12-11T00:00:00.000000000",
          "2017-12-12T00:00:00.000000000",
          "2017-12-13T00:00:00.000000000",
          "2017-12-14T00:00:00.000000000",
          "2017-12-15T00:00:00.000000000",
          "2017-12-16T00:00:00.000000000",
          "2017-12-17T00:00:00.000000000",
          "2017-12-18T00:00:00.000000000",
          "2017-12-19T00:00:00.000000000",
          "2017-12-20T00:00:00.000000000",
          "2017-12-21T00:00:00.000000000",
          "2017-12-22T00:00:00.000000000",
          "2017-12-23T00:00:00.000000000",
          "2017-12-24T00:00:00.000000000",
          "2017-12-25T00:00:00.000000000",
          "2017-12-26T00:00:00.000000000",
          "2017-12-27T00:00:00.000000000",
          "2017-12-28T00:00:00.000000000",
          "2017-12-29T00:00:00.000000000",
          "2017-12-30T00:00:00.000000000",
          "2017-12-31T00:00:00.000000000",
          "2018-01-01T00:00:00.000000000",
          "2018-01-02T00:00:00.000000000",
          "2018-01-03T00:00:00.000000000",
          "2018-01-04T00:00:00.000000000",
          "2018-01-05T00:00:00.000000000",
          "2018-01-06T00:00:00.000000000",
          "2018-01-07T00:00:00.000000000",
          "2018-01-08T00:00:00.000000000",
          "2018-01-09T00:00:00.000000000",
          "2018-01-10T00:00:00.000000000",
          "2018-01-11T00:00:00.000000000",
          "2018-01-12T00:00:00.000000000",
          "2018-01-13T00:00:00.000000000",
          "2018-01-14T00:00:00.000000000",
          "2018-01-15T00:00:00.000000000",
          "2018-01-16T00:00:00.000000000",
          "2018-01-17T00:00:00.000000000",
          "2018-01-18T00:00:00.000000000",
          "2018-01-19T00:00:00.000000000",
          "2018-01-20T00:00:00.000000000",
          "2018-01-21T00:00:00.000000000",
          "2018-01-22T00:00:00.000000000",
          "2018-01-23T00:00:00.000000000",
          "2018-01-24T00:00:00.000000000",
          "2018-01-25T00:00:00.000000000",
          "2018-01-26T00:00:00.000000000",
          "2018-01-27T00:00:00.000000000",
          "2018-01-28T00:00:00.000000000",
          "2018-01-29T00:00:00.000000000",
          "2018-01-30T00:00:00.000000000",
          "2018-01-31T00:00:00.000000000"
         ],
         "xaxis": "x",
         "y": {
          "bdata": "twCIAKMArQCnALIAowDDALoAxQCtAMAAqwCyALYAqgC2AKUAugCbAJMAsgC1AKEArwCYAKwAlQChALEAngDAAKUAqQCxAKUAuQCxAK4AtgC2AMcAtACWAJ8AxgCkAK0AnwCkAJoAnACgAL4AowCzAKUAqQCXAJsAogCTALIAugC1AMMArACmALMAtACeAJoAswCjAKsAuQCZAJ0AvACvAKYAuQCtAJMArgDFAJYAnQCQAJUApACWAKoA1ACpAK4AoACOAJAAswDCALgArwCqAJkAugCpAMAApQChAJoArQCsAK4AowCuALgAxwC3ALoAogCwALIAnADGAKkAsAC8AJQAsgCsAKYAmQCVAKcAlACFAKYAiwCcAKMApQCgAKsAuQCpAJQAtwC9ALsAtwDKALsAmQCdAKQAswCtAMEAqQC3AJsAlgCwALAAnQC+AK4ApQCeAKgAuACcAK4AtACiAI8AwwCuAJsAqQCoALYAoQCUAKQAngCmAKoAtgCnAJwArwDHALQAuQCcAJoAqQCnAL0AmwClAL4AuACnAKoAqACzAKQAlgC5AIsAvQDGAMEAoQCpAKoArgCTALMApgCuAK0AvwCoAJ8AmQCdAIcAxACMALcAwgCxAKEAtACRAL0AuACgAJ0ApgCkAMIAxwCdAL8AqwC5AJwApQCLAKoA",
          "dtype": "i2"
         },
         "yaxis": "y"
        }
       ],
       "layout": {
        "height": 500,
        "hovermode": "x unified",
        "legend": {
         "title": {
          "font": {
           "size": 14
          },
          "text": "Market"
         },
         "tracegroupgap": 0
        },
        "template": {
         "data": {
          "bar": [
           {
            "error_x": {
             "color": "#2a3f5f"
            },
            "error_y": {
             "color": "#2a3f5f"
            },
            "marker": {
             "line": {
              "color": "#E5ECF6",
              "width": 0.5
             },
             "pattern": {
              "fillmode": "overlay",
              "size": 10,
              "solidity": 0.2
             }
            },
            "type": "bar"
           }
          ],
          "barpolar": [
           {
            "marker": {
             "line": {
              "color": "#E5ECF6",
              "width": 0.5
             },
             "pattern": {
              "fillmode": "overlay",
              "size": 10,
              "solidity": 0.2
             }
            },
            "type": "barpolar"
           }
          ],
          "carpet": [
           {
            "aaxis": {
             "endlinecolor": "#2a3f5f",
             "gridcolor": "white",
             "linecolor": "white",
             "minorgridcolor": "white",
             "startlinecolor": "#2a3f5f"
            },
            "baxis": {
             "endlinecolor": "#2a3f5f",
             "gridcolor": "white",
             "linecolor": "white",
             "minorgridcolor": "white",
             "startlinecolor": "#2a3f5f"
            },
            "type": "carpet"
           }
          ],
          "choropleth": [
           {
            "colorbar": {
             "outlinewidth": 0,
             "ticks": ""
            },
            "type": "choropleth"
           }
          ],
          "contour": [
           {
            "colorbar": {
             "outlinewidth": 0,
             "ticks": ""
            },
            "colorscale": [
             [
              0,
              "#0d0887"
             ],
             [
              0.1111111111111111,
              "#46039f"
             ],
             [
              0.2222222222222222,
              "#7201a8"
             ],
             [
              0.3333333333333333,
              "#9c179e"
             ],
             [
              0.4444444444444444,
              "#bd3786"
             ],
             [
              0.5555555555555556,
              "#d8576b"
             ],
             [
              0.6666666666666666,
              "#ed7953"
             ],
             [
              0.7777777777777778,
              "#fb9f3a"
             ],
             [
              0.8888888888888888,
              "#fdca26"
             ],
             [
              1,
              "#f0f921"
             ]
            ],
            "type": "contour"
           }
          ],
          "contourcarpet": [
           {
            "colorbar": {
             "outlinewidth": 0,
             "ticks": ""
            },
            "type": "contourcarpet"
           }
          ],
          "heatmap": [
           {
            "colorbar": {
             "outlinewidth": 0,
             "ticks": ""
            },
            "colorscale": [
             [
              0,
              "#0d0887"
             ],
             [
              0.1111111111111111,
              "#46039f"
             ],
             [
              0.2222222222222222,
              "#7201a8"
             ],
             [
              0.3333333333333333,
              "#9c179e"
             ],
             [
              0.4444444444444444,
              "#bd3786"
             ],
             [
              0.5555555555555556,
              "#d8576b"
             ],
             [
              0.6666666666666666,
              "#ed7953"
             ],
             [
              0.7777777777777778,
              "#fb9f3a"
             ],
             [
              0.8888888888888888,
              "#fdca26"
             ],
             [
              1,
              "#f0f921"
             ]
            ],
            "type": "heatmap"
           }
          ],
          "histogram": [
           {
            "marker": {
             "pattern": {
              "fillmode": "overlay",
              "size": 10,
              "solidity": 0.2
             }
            },
            "type": "histogram"
           }
          ],
          "histogram2d": [
           {
            "colorbar": {
             "outlinewidth": 0,
             "ticks": ""
            },
            "colorscale": [
             [
              0,
              "#0d0887"
             ],
             [
              0.1111111111111111,
              "#46039f"
             ],
             [
              0.2222222222222222,
              "#7201a8"
             ],
             [
              0.3333333333333333,
              "#9c179e"
             ],
             [
              0.4444444444444444,
              "#bd3786"
             ],
             [
              0.5555555555555556,
              "#d8576b"
             ],
             [
              0.6666666666666666,
              "#ed7953"
             ],
             [
              0.7777777777777778,
              "#fb9f3a"
             ],
             [
              0.8888888888888888,
              "#fdca26"
             ],
             [
              1,
              "#f0f921"
             ]
            ],
            "type": "histogram2d"
           }
          ],
          "histogram2dcontour": [
           {
            "colorbar": {
             "outlinewidth": 0,
             "ticks": ""
            },
            "colorscale": [
             [
              0,
              "#0d0887"
             ],
             [
              0.1111111111111111,
              "#46039f"
             ],
             [
              0.2222222222222222,
              "#7201a8"
             ],
             [
              0.3333333333333333,
              "#9c179e"
             ],
             [
              0.4444444444444444,
              "#bd3786"
             ],
             [
              0.5555555555555556,
              "#d8576b"
             ],
             [
              0.6666666666666666,
              "#ed7953"
             ],
             [
              0.7777777777777778,
              "#fb9f3a"
             ],
             [
              0.8888888888888888,
              "#fdca26"
             ],
             [
              1,
              "#f0f921"
             ]
            ],
            "type": "histogram2dcontour"
           }
          ],
          "mesh3d": [
           {
            "colorbar": {
             "outlinewidth": 0,
             "ticks": ""
            },
            "type": "mesh3d"
           }
          ],
          "parcoords": [
           {
            "line": {
             "colorbar": {
              "outlinewidth": 0,
              "ticks": ""
             }
            },
            "type": "parcoords"
           }
          ],
          "pie": [
           {
            "automargin": true,
            "type": "pie"
           }
          ],
          "scatter": [
           {
            "fillpattern": {
             "fillmode": "overlay",
             "size": 10,
             "solidity": 0.2
            },
            "type": "scatter"
           }
          ],
          "scatter3d": [
           {
            "line": {
             "colorbar": {
              "outlinewidth": 0,
              "ticks": ""
             }
            },
            "marker": {
             "colorbar": {
              "outlinewidth": 0,
              "ticks": ""
             }
            },
            "type": "scatter3d"
           }
          ],
          "scattercarpet": [
           {
            "marker": {
             "colorbar": {
              "outlinewidth": 0,
              "ticks": ""
             }
            },
            "type": "scattercarpet"
           }
          ],
          "scattergeo": [
           {
            "marker": {
             "colorbar": {
              "outlinewidth": 0,
              "ticks": ""
             }
            },
            "type": "scattergeo"
           }
          ],
          "scattergl": [
           {
            "marker": {
             "colorbar": {
              "outlinewidth": 0,
              "ticks": ""
             }
            },
            "type": "scattergl"
           }
          ],
          "scattermap": [
           {
            "marker": {
             "colorbar": {
              "outlinewidth": 0,
              "ticks": ""
             }
            },
            "type": "scattermap"
           }
          ],
          "scattermapbox": [
           {
            "marker": {
             "colorbar": {
              "outlinewidth": 0,
              "ticks": ""
             }
            },
            "type": "scattermapbox"
           }
          ],
          "scatterpolar": [
           {
            "marker": {
             "colorbar": {
              "outlinewidth": 0,
              "ticks": ""
             }
            },
            "type": "scatterpolar"
           }
          ],
          "scatterpolargl": [
           {
            "marker": {
             "colorbar": {
              "outlinewidth": 0,
              "ticks": ""
             }
            },
            "type": "scatterpolargl"
           }
          ],
          "scatterternary": [
           {
            "marker": {
             "colorbar": {
              "outlinewidth": 0,
              "ticks": ""
             }
            },
            "type": "scatterternary"
           }
          ],
          "surface": [
           {
            "colorbar": {
             "outlinewidth": 0,
             "ticks": ""
            },
            "colorscale": [
             [
              0,
              "#0d0887"
             ],
             [
              0.1111111111111111,
              "#46039f"
             ],
             [
              0.2222222222222222,
              "#7201a8"
             ],
             [
              0.3333333333333333,
              "#9c179e"
             ],
             [
              0.4444444444444444,
              "#bd3786"
             ],
             [
              0.5555555555555556,
              "#d8576b"
             ],
             [
              0.6666666666666666,
              "#ed7953"
             ],
             [
              0.7777777777777778,
              "#fb9f3a"
             ],
             [
              0.8888888888888888,
              "#fdca26"
             ],
             [
              1,
              "#f0f921"
             ]
            ],
            "type": "surface"
           }
          ],
          "table": [
           {
            "cells": {
             "fill": {
              "color": "#EBF0F8"
             },
             "line": {
              "color": "white"
             }
            },
            "header": {
             "fill": {
              "color": "#C8D4E3"
             },
             "line": {
              "color": "white"
             }
            },
            "type": "table"
           }
          ]
         },
         "layout": {
          "annotationdefaults": {
           "arrowcolor": "#2a3f5f",
           "arrowhead": 0,
           "arrowwidth": 1
          },
          "autotypenumbers": "strict",
          "coloraxis": {
           "colorbar": {
            "outlinewidth": 0,
            "ticks": ""
           }
          },
          "colorscale": {
           "diverging": [
            [
             0,
             "#8e0152"
            ],
            [
             0.1,
             "#c51b7d"
            ],
            [
             0.2,
             "#de77ae"
            ],
            [
             0.3,
             "#f1b6da"
            ],
            [
             0.4,
             "#fde0ef"
            ],
            [
             0.5,
             "#f7f7f7"
            ],
            [
             0.6,
             "#e6f5d0"
            ],
            [
             0.7,
             "#b8e186"
            ],
            [
             0.8,
             "#7fbc41"
            ],
            [
             0.9,
             "#4d9221"
            ],
            [
             1,
             "#276419"
            ]
           ],
           "sequential": [
            [
             0,
             "#0d0887"
            ],
            [
             0.1111111111111111,
             "#46039f"
            ],
            [
             0.2222222222222222,
             "#7201a8"
            ],
            [
             0.3333333333333333,
             "#9c179e"
            ],
            [
             0.4444444444444444,
             "#bd3786"
            ],
            [
             0.5555555555555556,
             "#d8576b"
            ],
            [
             0.6666666666666666,
             "#ed7953"
            ],
            [
             0.7777777777777778,
             "#fb9f3a"
            ],
            [
             0.8888888888888888,
             "#fdca26"
            ],
            [
             1,
             "#f0f921"
            ]
           ],
           "sequentialminus": [
            [
             0,
             "#0d0887"
            ],
            [
             0.1111111111111111,
             "#46039f"
            ],
            [
             0.2222222222222222,
             "#7201a8"
            ],
            [
             0.3333333333333333,
             "#9c179e"
            ],
            [
             0.4444444444444444,
             "#bd3786"
            ],
            [
             0.5555555555555556,
             "#d8576b"
            ],
            [
             0.6666666666666666,
             "#ed7953"
            ],
            [
             0.7777777777777778,
             "#fb9f3a"
            ],
            [
             0.8888888888888888,
             "#fdca26"
            ],
            [
             1,
             "#f0f921"
            ]
           ]
          },
          "colorway": [
           "#636efa",
           "#EF553B",
           "#00cc96",
           "#ab63fa",
           "#FFA15A",
           "#19d3f3",
           "#FF6692",
           "#B6E880",
           "#FF97FF",
           "#FECB52"
          ],
          "font": {
           "color": "#2a3f5f"
          },
          "geo": {
           "bgcolor": "white",
           "lakecolor": "white",
           "landcolor": "#E5ECF6",
           "showlakes": true,
           "showland": true,
           "subunitcolor": "white"
          },
          "hoverlabel": {
           "align": "left"
          },
          "hovermode": "closest",
          "mapbox": {
           "style": "light"
          },
          "paper_bgcolor": "white",
          "plot_bgcolor": "#E5ECF6",
          "polar": {
           "angularaxis": {
            "gridcolor": "white",
            "linecolor": "white",
            "ticks": ""
           },
           "bgcolor": "#E5ECF6",
           "radialaxis": {
            "gridcolor": "white",
            "linecolor": "white",
            "ticks": ""
           }
          },
          "scene": {
           "xaxis": {
            "backgroundcolor": "#E5ECF6",
            "gridcolor": "white",
            "gridwidth": 2,
            "linecolor": "white",
            "showbackground": true,
            "ticks": "",
            "zerolinecolor": "white"
           },
           "yaxis": {
            "backgroundcolor": "#E5ECF6",
            "gridcolor": "white",
            "gridwidth": 2,
            "linecolor": "white",
            "showbackground": true,
            "ticks": "",
            "zerolinecolor": "white"
           },
           "zaxis": {
            "backgroundcolor": "#E5ECF6",
            "gridcolor": "white",
            "gridwidth": 2,
            "linecolor": "white",
            "showbackground": true,
            "ticks": "",
            "zerolinecolor": "white"
           }
          },
          "shapedefaults": {
           "line": {
            "color": "#2a3f5f"
           }
          },
          "ternary": {
           "aaxis": {
            "gridcolor": "white",
            "linecolor": "white",
            "ticks": ""
           },
           "baxis": {
            "gridcolor": "white",
            "linecolor": "white",
            "ticks": ""
           },
           "bgcolor": "#E5ECF6",
           "caxis": {
            "gridcolor": "white",
            "linecolor": "white",
            "ticks": ""
           }
          },
          "title": {
           "x": 0.05
          },
          "xaxis": {
           "automargin": true,
           "gridcolor": "white",
           "linecolor": "white",
           "ticks": "",
           "title": {
            "standoff": 15
           },
           "zerolinecolor": "white",
           "zerolinewidth": 2
          },
          "yaxis": {
           "automargin": true,
           "gridcolor": "white",
           "linecolor": "white",
           "ticks": "",
           "title": {
            "standoff": 15
           },
           "zerolinecolor": "white",
           "zerolinewidth": 2
          }
         }
        },
        "title": {
         "font": {
          "size": 16
         },
         "text": "📊 Daily Order Counts by Market (Processed Data)"
        },
        "xaxis": {
         "anchor": "y",
         "domain": [
          0,
          1
         ],
         "title": {
          "font": {
           "size": 14
          },
          "text": "Date"
         }
        },
        "yaxis": {
         "anchor": "x",
         "domain": [
          0,
          1
         ],
         "title": {
          "font": {
           "size": 14
          },
          "text": "Daily Order Count"
         }
        }
       }
      }
     },
     "metadata": {},
     "output_type": "display_data"
    },
    {
     "name": "stdout",
     "output_type": "stream",
     "text": [
      "\n",
      "📊 Daily Order Summary Statistics:\n",
      "        count    mean    std  min  max\n",
      "Market                                \n",
      "Europe    255  170.60  13.09  135  203\n",
      "LATAM     255  171.98  13.91  134  209\n",
      "USCA      255  170.20  15.08  133  212\n",
      "\n",
      "📊 Total Orders by Market (Processed Period):\n",
      "   LATAM: 43,854 orders\n",
      "   Europe: 43,503 orders\n",
      "   USCA: 43,401 orders\n",
      "\n",
      "✅ Daily trend visualization completed!\n"
     ]
    }
   ],
   "source": [
    "# Create line chart for daily order counts per market\n",
    "print(\"📈 Creating daily order trend visualization...\")\n",
    "\n",
    "# Create interactive line chart\n",
    "fig = px.line(\n",
    "    processed_data, \n",
    "    x='order_date_only', \n",
    "    y='order_count',\n",
    "    color='Market',\n",
    "    title='📊 Daily Order Counts by Market (Processed Data)',\n",
    "    labels={\n",
    "        'order_date_only': 'Date',\n",
    "        'order_count': 'Daily Order Count',\n",
    "        'Market': 'Market'\n",
    "    },\n",
    "    height=500\n",
    ")\n",
    "\n",
    "# Customize layout\n",
    "fig.update_layout(\n",
    "    title_font_size=16,\n",
    "    xaxis_title_font_size=14,\n",
    "    yaxis_title_font_size=14,\n",
    "    legend_title_font_size=14,\n",
    "    hovermode='x unified'\n",
    ")\n",
    "\n",
    "# Add market-specific colors\n",
    "colors = {'USCA': '#1f77b4', 'LATAM': '#ff7f0e', 'Europe': '#2ca02c'}\n",
    "for trace in fig.data:\n",
    "    if trace.name in colors:\n",
    "        trace.line.color = colors[trace.name]\n",
    "\n",
    "# Show the plot\n",
    "fig.show()\n",
    "\n",
    "# Print summary statistics\n",
    "print(f\"\\n📊 Daily Order Summary Statistics:\")\n",
    "summary_stats = processed_data.groupby('Market')['order_count'].agg(['count', 'mean', 'std', 'min', 'max']).round(2)\n",
    "print(summary_stats)\n",
    "\n",
    "# Calculate total orders per market\n",
    "total_by_market = processed_data.groupby('Market')['order_count'].sum().sort_values(ascending=False)\n",
    "print(f\"\\n📊 Total Orders by Market (Processed Period):\")\n",
    "for market, total in total_by_market.items():\n",
    "    print(f\"   {market}: {total:,} orders\")\n",
    "\n",
    "print(f\"\\n✅ Daily trend visualization completed!\")"
   ]
  },
  {
   "cell_type": "code",
   "execution_count": 32,
   "id": "937a6785",
   "metadata": {},
   "outputs": [
    {
     "name": "stdout",
     "output_type": "stream",
     "text": [
      "📊 Creating additional validation charts...\n"
     ]
    },
    {
     "data": {
      "application/vnd.plotly.v1+json": {
       "config": {
        "plotlyServerURL": "https://plot.ly"
       },
       "data": [
        {
         "alignmentgroup": "True",
         "hovertemplate": "Market=%{x}<br>Daily Order Count=%{y}<extra></extra>",
         "legendgroup": "",
         "marker": {
          "color": "#636efa"
         },
         "name": "",
         "notched": false,
         "offsetgroup": "",
         "orientation": "v",
         "showlegend": false,
         "type": "box",
         "x": [
          "Europe",
          "LATAM",
          "USCA",
          "Europe",
          "LATAM",
          "USCA",
          "Europe",
          "LATAM",
          "USCA",
          "Europe",
          "LATAM",
          "USCA",
          "Europe",
          "LATAM",
          "USCA",
          "Europe",
          "LATAM",
          "USCA",
          "Europe",
          "LATAM",
          "USCA",
          "Europe",
          "LATAM",
          "USCA",
          "Europe",
          "LATAM",
          "USCA",
          "Europe",
          "LATAM",
          "USCA",
          "Europe",
          "LATAM",
          "USCA",
          "Europe",
          "LATAM",
          "USCA",
          "Europe",
          "LATAM",
          "USCA",
          "Europe",
          "LATAM",
          "USCA",
          "Europe",
          "LATAM",
          "USCA",
          "Europe",
          "LATAM",
          "USCA",
          "Europe",
          "LATAM",
          "USCA",
          "Europe",
          "LATAM",
          "USCA",
          "Europe",
          "LATAM",
          "USCA",
          "Europe",
          "LATAM",
          "USCA",
          "Europe",
          "LATAM",
          "USCA",
          "Europe",
          "LATAM",
          "USCA",
          "Europe",
          "LATAM",
          "USCA",
          "Europe",
          "LATAM",
          "USCA",
          "Europe",
          "LATAM",
          "USCA",
          "Europe",
          "LATAM",
          "USCA",
          "Europe",
          "LATAM",
          "USCA",
          "Europe",
          "LATAM",
          "USCA",
          "Europe",
          "LATAM",
          "USCA",
          "Europe",
          "LATAM",
          "USCA",
          "Europe",
          "LATAM",
          "USCA",
          "Europe",
          "LATAM",
          "USCA",
          "Europe",
          "LATAM",
          "USCA",
          "Europe",
          "LATAM",
          "USCA",
          "Europe",
          "LATAM",
          "USCA",
          "Europe",
          "LATAM",
          "USCA",
          "Europe",
          "LATAM",
          "USCA",
          "Europe",
          "LATAM",
          "USCA",
          "Europe",
          "LATAM",
          "USCA",
          "Europe",
          "LATAM",
          "USCA",
          "Europe",
          "LATAM",
          "USCA",
          "Europe",
          "LATAM",
          "USCA",
          "Europe",
          "LATAM",
          "USCA",
          "Europe",
          "LATAM",
          "USCA",
          "Europe",
          "LATAM",
          "USCA",
          "Europe",
          "LATAM",
          "USCA",
          "Europe",
          "LATAM",
          "USCA",
          "Europe",
          "LATAM",
          "USCA",
          "Europe",
          "LATAM",
          "USCA",
          "Europe",
          "LATAM",
          "USCA",
          "Europe",
          "LATAM",
          "USCA",
          "Europe",
          "LATAM",
          "USCA",
          "Europe",
          "LATAM",
          "USCA",
          "Europe",
          "LATAM",
          "USCA",
          "Europe",
          "LATAM",
          "USCA",
          "Europe",
          "LATAM",
          "USCA",
          "Europe",
          "LATAM",
          "USCA",
          "Europe",
          "LATAM",
          "USCA",
          "Europe",
          "LATAM",
          "USCA",
          "Europe",
          "LATAM",
          "USCA",
          "Europe",
          "LATAM",
          "USCA",
          "Europe",
          "LATAM",
          "USCA",
          "Europe",
          "LATAM",
          "USCA",
          "Europe",
          "LATAM",
          "USCA",
          "Europe",
          "LATAM",
          "USCA",
          "Europe",
          "LATAM",
          "USCA",
          "Europe",
          "LATAM",
          "USCA",
          "Europe",
          "LATAM",
          "USCA",
          "Europe",
          "LATAM",
          "USCA",
          "Europe",
          "LATAM",
          "USCA",
          "Europe",
          "LATAM",
          "USCA",
          "Europe",
          "LATAM",
          "USCA",
          "Europe",
          "LATAM",
          "USCA",
          "Europe",
          "LATAM",
          "USCA",
          "Europe",
          "LATAM",
          "USCA",
          "Europe",
          "LATAM",
          "USCA",
          "Europe",
          "LATAM",
          "USCA",
          "Europe",
          "LATAM",
          "USCA",
          "Europe",
          "LATAM",
          "USCA",
          "Europe",
          "LATAM",
          "USCA",
          "Europe",
          "LATAM",
          "USCA",
          "Europe",
          "LATAM",
          "USCA",
          "Europe",
          "LATAM",
          "USCA",
          "Europe",
          "LATAM",
          "USCA",
          "Europe",
          "LATAM",
          "USCA",
          "Europe",
          "LATAM",
          "USCA",
          "Europe",
          "LATAM",
          "USCA",
          "Europe",
          "LATAM",
          "USCA",
          "Europe",
          "LATAM",
          "USCA",
          "Europe",
          "LATAM",
          "USCA",
          "Europe",
          "LATAM",
          "USCA",
          "Europe",
          "LATAM",
          "USCA",
          "Europe",
          "LATAM",
          "USCA",
          "Europe",
          "LATAM",
          "USCA",
          "Europe",
          "LATAM",
          "USCA",
          "Europe",
          "LATAM",
          "USCA",
          "Europe",
          "LATAM",
          "USCA",
          "Europe",
          "LATAM",
          "USCA",
          "Europe",
          "LATAM",
          "USCA",
          "Europe",
          "LATAM",
          "USCA",
          "Europe",
          "LATAM",
          "USCA",
          "Europe",
          "LATAM",
          "USCA",
          "Europe",
          "LATAM",
          "USCA",
          "Europe",
          "LATAM",
          "USCA",
          "Europe",
          "LATAM",
          "USCA",
          "Europe",
          "LATAM",
          "USCA",
          "Europe",
          "LATAM",
          "USCA",
          "Europe",
          "LATAM",
          "USCA",
          "Europe",
          "LATAM",
          "USCA",
          "Europe",
          "LATAM",
          "USCA",
          "Europe",
          "LATAM",
          "USCA",
          "Europe",
          "LATAM",
          "USCA",
          "Europe",
          "LATAM",
          "USCA",
          "Europe",
          "LATAM",
          "USCA",
          "Europe",
          "LATAM",
          "USCA",
          "Europe",
          "LATAM",
          "USCA",
          "Europe",
          "LATAM",
          "USCA",
          "Europe",
          "LATAM",
          "USCA",
          "Europe",
          "LATAM",
          "USCA",
          "Europe",
          "LATAM",
          "USCA",
          "Europe",
          "LATAM",
          "USCA",
          "Europe",
          "LATAM",
          "USCA",
          "Europe",
          "LATAM",
          "USCA",
          "Europe",
          "LATAM",
          "USCA",
          "Europe",
          "LATAM",
          "USCA",
          "Europe",
          "LATAM",
          "USCA",
          "Europe",
          "LATAM",
          "USCA",
          "Europe",
          "LATAM",
          "USCA",
          "Europe",
          "LATAM",
          "USCA",
          "Europe",
          "LATAM",
          "USCA",
          "Europe",
          "LATAM",
          "USCA",
          "Europe",
          "LATAM",
          "USCA",
          "Europe",
          "LATAM",
          "USCA",
          "Europe",
          "LATAM",
          "USCA",
          "Europe",
          "LATAM",
          "USCA",
          "Europe",
          "LATAM",
          "USCA",
          "Europe",
          "LATAM",
          "USCA",
          "Europe",
          "LATAM",
          "USCA",
          "Europe",
          "LATAM",
          "USCA",
          "Europe",
          "LATAM",
          "USCA",
          "Europe",
          "LATAM",
          "USCA",
          "Europe",
          "LATAM",
          "USCA",
          "Europe",
          "LATAM",
          "USCA",
          "Europe",
          "LATAM",
          "USCA",
          "Europe",
          "LATAM",
          "USCA",
          "Europe",
          "LATAM",
          "USCA",
          "Europe",
          "LATAM",
          "USCA",
          "Europe",
          "LATAM",
          "USCA",
          "Europe",
          "LATAM",
          "USCA",
          "Europe",
          "LATAM",
          "USCA",
          "Europe",
          "LATAM",
          "USCA",
          "Europe",
          "LATAM",
          "USCA",
          "Europe",
          "LATAM",
          "USCA",
          "Europe",
          "LATAM",
          "USCA",
          "Europe",
          "LATAM",
          "USCA",
          "Europe",
          "LATAM",
          "USCA",
          "Europe",
          "LATAM",
          "USCA",
          "Europe",
          "LATAM",
          "USCA",
          "Europe",
          "LATAM",
          "USCA",
          "Europe",
          "LATAM",
          "USCA",
          "Europe",
          "LATAM",
          "USCA",
          "Europe",
          "LATAM",
          "USCA",
          "Europe",
          "LATAM",
          "USCA",
          "Europe",
          "LATAM",
          "USCA",
          "Europe",
          "LATAM",
          "USCA",
          "Europe",
          "LATAM",
          "USCA",
          "Europe",
          "LATAM",
          "USCA",
          "Europe",
          "LATAM",
          "USCA",
          "Europe",
          "LATAM",
          "USCA",
          "Europe",
          "LATAM",
          "USCA",
          "Europe",
          "LATAM",
          "USCA",
          "Europe",
          "LATAM",
          "USCA",
          "Europe",
          "LATAM",
          "USCA",
          "Europe",
          "LATAM",
          "USCA",
          "Europe",
          "LATAM",
          "USCA",
          "Europe",
          "LATAM",
          "USCA",
          "Europe",
          "LATAM",
          "USCA",
          "Europe",
          "LATAM",
          "USCA",
          "Europe",
          "LATAM",
          "USCA",
          "Europe",
          "LATAM",
          "USCA",
          "Europe",
          "LATAM",
          "USCA",
          "Europe",
          "LATAM",
          "USCA",
          "Europe",
          "LATAM",
          "USCA",
          "Europe",
          "LATAM",
          "USCA",
          "Europe",
          "LATAM",
          "USCA",
          "Europe",
          "LATAM",
          "USCA",
          "Europe",
          "LATAM",
          "USCA",
          "Europe",
          "LATAM",
          "USCA",
          "Europe",
          "LATAM",
          "USCA",
          "Europe",
          "LATAM",
          "USCA",
          "Europe",
          "LATAM",
          "USCA",
          "Europe",
          "LATAM",
          "USCA",
          "Europe",
          "LATAM",
          "USCA",
          "Europe",
          "LATAM",
          "USCA",
          "Europe",
          "LATAM",
          "USCA",
          "Europe",
          "LATAM",
          "USCA",
          "Europe",
          "LATAM",
          "USCA",
          "Europe",
          "LATAM",
          "USCA",
          "Europe",
          "LATAM",
          "USCA",
          "Europe",
          "LATAM",
          "USCA",
          "Europe",
          "LATAM",
          "USCA",
          "Europe",
          "LATAM",
          "USCA",
          "Europe",
          "LATAM",
          "USCA",
          "Europe",
          "LATAM",
          "USCA",
          "Europe",
          "LATAM",
          "USCA",
          "Europe",
          "LATAM",
          "USCA",
          "Europe",
          "LATAM",
          "USCA",
          "Europe",
          "LATAM",
          "USCA",
          "Europe",
          "LATAM",
          "USCA",
          "Europe",
          "LATAM",
          "USCA",
          "Europe",
          "LATAM",
          "USCA",
          "Europe",
          "LATAM",
          "USCA",
          "Europe",
          "LATAM",
          "USCA",
          "Europe",
          "LATAM",
          "USCA",
          "Europe",
          "LATAM",
          "USCA",
          "Europe",
          "LATAM",
          "USCA",
          "Europe",
          "LATAM",
          "USCA",
          "Europe",
          "LATAM",
          "USCA",
          "Europe",
          "LATAM",
          "USCA",
          "Europe",
          "LATAM",
          "USCA",
          "Europe",
          "LATAM",
          "USCA",
          "Europe",
          "LATAM",
          "USCA",
          "Europe",
          "LATAM",
          "USCA",
          "Europe",
          "LATAM",
          "USCA",
          "Europe",
          "LATAM",
          "USCA",
          "Europe",
          "LATAM",
          "USCA",
          "Europe",
          "LATAM",
          "USCA",
          "Europe",
          "LATAM",
          "USCA",
          "Europe",
          "LATAM",
          "USCA",
          "Europe",
          "LATAM",
          "USCA",
          "Europe",
          "LATAM",
          "USCA",
          "Europe",
          "LATAM",
          "USCA",
          "Europe",
          "LATAM",
          "USCA",
          "Europe",
          "LATAM",
          "USCA",
          "Europe",
          "LATAM",
          "USCA",
          "Europe",
          "LATAM",
          "USCA",
          "Europe",
          "LATAM",
          "USCA",
          "Europe",
          "LATAM",
          "USCA",
          "Europe",
          "LATAM",
          "USCA",
          "Europe",
          "LATAM",
          "USCA",
          "Europe",
          "LATAM",
          "USCA",
          "Europe",
          "LATAM",
          "USCA",
          "Europe",
          "LATAM",
          "USCA",
          "Europe",
          "LATAM",
          "USCA",
          "Europe",
          "LATAM",
          "USCA",
          "Europe",
          "LATAM",
          "USCA",
          "Europe",
          "LATAM",
          "USCA",
          "Europe",
          "LATAM",
          "USCA",
          "Europe",
          "LATAM",
          "USCA",
          "Europe",
          "LATAM",
          "USCA",
          "Europe",
          "LATAM",
          "USCA",
          "Europe",
          "LATAM",
          "USCA",
          "Europe",
          "LATAM",
          "USCA",
          "Europe",
          "LATAM",
          "USCA",
          "Europe",
          "LATAM",
          "USCA"
         ],
         "x0": " ",
         "xaxis": "x",
         "y": {
          "bdata": "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",
          "dtype": "i2"
         },
         "y0": " ",
         "yaxis": "y"
        }
       ],
       "layout": {
        "boxmode": "group",
        "height": 400,
        "legend": {
         "tracegroupgap": 0
        },
        "template": {
         "data": {
          "bar": [
           {
            "error_x": {
             "color": "#2a3f5f"
            },
            "error_y": {
             "color": "#2a3f5f"
            },
            "marker": {
             "line": {
              "color": "#E5ECF6",
              "width": 0.5
             },
             "pattern": {
              "fillmode": "overlay",
              "size": 10,
              "solidity": 0.2
             }
            },
            "type": "bar"
           }
          ],
          "barpolar": [
           {
            "marker": {
             "line": {
              "color": "#E5ECF6",
              "width": 0.5
             },
             "pattern": {
              "fillmode": "overlay",
              "size": 10,
              "solidity": 0.2
             }
            },
            "type": "barpolar"
           }
          ],
          "carpet": [
           {
            "aaxis": {
             "endlinecolor": "#2a3f5f",
             "gridcolor": "white",
             "linecolor": "white",
             "minorgridcolor": "white",
             "startlinecolor": "#2a3f5f"
            },
            "baxis": {
             "endlinecolor": "#2a3f5f",
             "gridcolor": "white",
             "linecolor": "white",
             "minorgridcolor": "white",
             "startlinecolor": "#2a3f5f"
            },
            "type": "carpet"
           }
          ],
          "choropleth": [
           {
            "colorbar": {
             "outlinewidth": 0,
             "ticks": ""
            },
            "type": "choropleth"
           }
          ],
          "contour": [
           {
            "colorbar": {
             "outlinewidth": 0,
             "ticks": ""
            },
            "colorscale": [
             [
              0,
              "#0d0887"
             ],
             [
              0.1111111111111111,
              "#46039f"
             ],
             [
              0.2222222222222222,
              "#7201a8"
             ],
             [
              0.3333333333333333,
              "#9c179e"
             ],
             [
              0.4444444444444444,
              "#bd3786"
             ],
             [
              0.5555555555555556,
              "#d8576b"
             ],
             [
              0.6666666666666666,
              "#ed7953"
             ],
             [
              0.7777777777777778,
              "#fb9f3a"
             ],
             [
              0.8888888888888888,
              "#fdca26"
             ],
             [
              1,
              "#f0f921"
             ]
            ],
            "type": "contour"
           }
          ],
          "contourcarpet": [
           {
            "colorbar": {
             "outlinewidth": 0,
             "ticks": ""
            },
            "type": "contourcarpet"
           }
          ],
          "heatmap": [
           {
            "colorbar": {
             "outlinewidth": 0,
             "ticks": ""
            },
            "colorscale": [
             [
              0,
              "#0d0887"
             ],
             [
              0.1111111111111111,
              "#46039f"
             ],
             [
              0.2222222222222222,
              "#7201a8"
             ],
             [
              0.3333333333333333,
              "#9c179e"
             ],
             [
              0.4444444444444444,
              "#bd3786"
             ],
             [
              0.5555555555555556,
              "#d8576b"
             ],
             [
              0.6666666666666666,
              "#ed7953"
             ],
             [
              0.7777777777777778,
              "#fb9f3a"
             ],
             [
              0.8888888888888888,
              "#fdca26"
             ],
             [
              1,
              "#f0f921"
             ]
            ],
            "type": "heatmap"
           }
          ],
          "histogram": [
           {
            "marker": {
             "pattern": {
              "fillmode": "overlay",
              "size": 10,
              "solidity": 0.2
             }
            },
            "type": "histogram"
           }
          ],
          "histogram2d": [
           {
            "colorbar": {
             "outlinewidth": 0,
             "ticks": ""
            },
            "colorscale": [
             [
              0,
              "#0d0887"
             ],
             [
              0.1111111111111111,
              "#46039f"
             ],
             [
              0.2222222222222222,
              "#7201a8"
             ],
             [
              0.3333333333333333,
              "#9c179e"
             ],
             [
              0.4444444444444444,
              "#bd3786"
             ],
             [
              0.5555555555555556,
              "#d8576b"
             ],
             [
              0.6666666666666666,
              "#ed7953"
             ],
             [
              0.7777777777777778,
              "#fb9f3a"
             ],
             [
              0.8888888888888888,
              "#fdca26"
             ],
             [
              1,
              "#f0f921"
             ]
            ],
            "type": "histogram2d"
           }
          ],
          "histogram2dcontour": [
           {
            "colorbar": {
             "outlinewidth": 0,
             "ticks": ""
            },
            "colorscale": [
             [
              0,
              "#0d0887"
             ],
             [
              0.1111111111111111,
              "#46039f"
             ],
             [
              0.2222222222222222,
              "#7201a8"
             ],
             [
              0.3333333333333333,
              "#9c179e"
             ],
             [
              0.4444444444444444,
              "#bd3786"
             ],
             [
              0.5555555555555556,
              "#d8576b"
             ],
             [
              0.6666666666666666,
              "#ed7953"
             ],
             [
              0.7777777777777778,
              "#fb9f3a"
             ],
             [
              0.8888888888888888,
              "#fdca26"
             ],
             [
              1,
              "#f0f921"
             ]
            ],
            "type": "histogram2dcontour"
           }
          ],
          "mesh3d": [
           {
            "colorbar": {
             "outlinewidth": 0,
             "ticks": ""
            },
            "type": "mesh3d"
           }
          ],
          "parcoords": [
           {
            "line": {
             "colorbar": {
              "outlinewidth": 0,
              "ticks": ""
             }
            },
            "type": "parcoords"
           }
          ],
          "pie": [
           {
            "automargin": true,
            "type": "pie"
           }
          ],
          "scatter": [
           {
            "fillpattern": {
             "fillmode": "overlay",
             "size": 10,
             "solidity": 0.2
            },
            "type": "scatter"
           }
          ],
          "scatter3d": [
           {
            "line": {
             "colorbar": {
              "outlinewidth": 0,
              "ticks": ""
             }
            },
            "marker": {
             "colorbar": {
              "outlinewidth": 0,
              "ticks": ""
             }
            },
            "type": "scatter3d"
           }
          ],
          "scattercarpet": [
           {
            "marker": {
             "colorbar": {
              "outlinewidth": 0,
              "ticks": ""
             }
            },
            "type": "scattercarpet"
           }
          ],
          "scattergeo": [
           {
            "marker": {
             "colorbar": {
              "outlinewidth": 0,
              "ticks": ""
             }
            },
            "type": "scattergeo"
           }
          ],
          "scattergl": [
           {
            "marker": {
             "colorbar": {
              "outlinewidth": 0,
              "ticks": ""
             }
            },
            "type": "scattergl"
           }
          ],
          "scattermap": [
           {
            "marker": {
             "colorbar": {
              "outlinewidth": 0,
              "ticks": ""
             }
            },
            "type": "scattermap"
           }
          ],
          "scattermapbox": [
           {
            "marker": {
             "colorbar": {
              "outlinewidth": 0,
              "ticks": ""
             }
            },
            "type": "scattermapbox"
           }
          ],
          "scatterpolar": [
           {
            "marker": {
             "colorbar": {
              "outlinewidth": 0,
              "ticks": ""
             }
            },
            "type": "scatterpolar"
           }
          ],
          "scatterpolargl": [
           {
            "marker": {
             "colorbar": {
              "outlinewidth": 0,
              "ticks": ""
             }
            },
            "type": "scatterpolargl"
           }
          ],
          "scatterternary": [
           {
            "marker": {
             "colorbar": {
              "outlinewidth": 0,
              "ticks": ""
             }
            },
            "type": "scatterternary"
           }
          ],
          "surface": [
           {
            "colorbar": {
             "outlinewidth": 0,
             "ticks": ""
            },
            "colorscale": [
             [
              0,
              "#0d0887"
             ],
             [
              0.1111111111111111,
              "#46039f"
             ],
             [
              0.2222222222222222,
              "#7201a8"
             ],
             [
              0.3333333333333333,
              "#9c179e"
             ],
             [
              0.4444444444444444,
              "#bd3786"
             ],
             [
              0.5555555555555556,
              "#d8576b"
             ],
             [
              0.6666666666666666,
              "#ed7953"
             ],
             [
              0.7777777777777778,
              "#fb9f3a"
             ],
             [
              0.8888888888888888,
              "#fdca26"
             ],
             [
              1,
              "#f0f921"
             ]
            ],
            "type": "surface"
           }
          ],
          "table": [
           {
            "cells": {
             "fill": {
              "color": "#EBF0F8"
             },
             "line": {
              "color": "white"
             }
            },
            "header": {
             "fill": {
              "color": "#C8D4E3"
             },
             "line": {
              "color": "white"
             }
            },
            "type": "table"
           }
          ]
         },
         "layout": {
          "annotationdefaults": {
           "arrowcolor": "#2a3f5f",
           "arrowhead": 0,
           "arrowwidth": 1
          },
          "autotypenumbers": "strict",
          "coloraxis": {
           "colorbar": {
            "outlinewidth": 0,
            "ticks": ""
           }
          },
          "colorscale": {
           "diverging": [
            [
             0,
             "#8e0152"
            ],
            [
             0.1,
             "#c51b7d"
            ],
            [
             0.2,
             "#de77ae"
            ],
            [
             0.3,
             "#f1b6da"
            ],
            [
             0.4,
             "#fde0ef"
            ],
            [
             0.5,
             "#f7f7f7"
            ],
            [
             0.6,
             "#e6f5d0"
            ],
            [
             0.7,
             "#b8e186"
            ],
            [
             0.8,
             "#7fbc41"
            ],
            [
             0.9,
             "#4d9221"
            ],
            [
             1,
             "#276419"
            ]
           ],
           "sequential": [
            [
             0,
             "#0d0887"
            ],
            [
             0.1111111111111111,
             "#46039f"
            ],
            [
             0.2222222222222222,
             "#7201a8"
            ],
            [
             0.3333333333333333,
             "#9c179e"
            ],
            [
             0.4444444444444444,
             "#bd3786"
            ],
            [
             0.5555555555555556,
             "#d8576b"
            ],
            [
             0.6666666666666666,
             "#ed7953"
            ],
            [
             0.7777777777777778,
             "#fb9f3a"
            ],
            [
             0.8888888888888888,
             "#fdca26"
            ],
            [
             1,
             "#f0f921"
            ]
           ],
           "sequentialminus": [
            [
             0,
             "#0d0887"
            ],
            [
             0.1111111111111111,
             "#46039f"
            ],
            [
             0.2222222222222222,
             "#7201a8"
            ],
            [
             0.3333333333333333,
             "#9c179e"
            ],
            [
             0.4444444444444444,
             "#bd3786"
            ],
            [
             0.5555555555555556,
             "#d8576b"
            ],
            [
             0.6666666666666666,
             "#ed7953"
            ],
            [
             0.7777777777777778,
             "#fb9f3a"
            ],
            [
             0.8888888888888888,
             "#fdca26"
            ],
            [
             1,
             "#f0f921"
            ]
           ]
          },
          "colorway": [
           "#636efa",
           "#EF553B",
           "#00cc96",
           "#ab63fa",
           "#FFA15A",
           "#19d3f3",
           "#FF6692",
           "#B6E880",
           "#FF97FF",
           "#FECB52"
          ],
          "font": {
           "color": "#2a3f5f"
          },
          "geo": {
           "bgcolor": "white",
           "lakecolor": "white",
           "landcolor": "#E5ECF6",
           "showlakes": true,
           "showland": true,
           "subunitcolor": "white"
          },
          "hoverlabel": {
           "align": "left"
          },
          "hovermode": "closest",
          "mapbox": {
           "style": "light"
          },
          "paper_bgcolor": "white",
          "plot_bgcolor": "#E5ECF6",
          "polar": {
           "angularaxis": {
            "gridcolor": "white",
            "linecolor": "white",
            "ticks": ""
           },
           "bgcolor": "#E5ECF6",
           "radialaxis": {
            "gridcolor": "white",
            "linecolor": "white",
            "ticks": ""
           }
          },
          "scene": {
           "xaxis": {
            "backgroundcolor": "#E5ECF6",
            "gridcolor": "white",
            "gridwidth": 2,
            "linecolor": "white",
            "showbackground": true,
            "ticks": "",
            "zerolinecolor": "white"
           },
           "yaxis": {
            "backgroundcolor": "#E5ECF6",
            "gridcolor": "white",
            "gridwidth": 2,
            "linecolor": "white",
            "showbackground": true,
            "ticks": "",
            "zerolinecolor": "white"
           },
           "zaxis": {
            "backgroundcolor": "#E5ECF6",
            "gridcolor": "white",
            "gridwidth": 2,
            "linecolor": "white",
            "showbackground": true,
            "ticks": "",
            "zerolinecolor": "white"
           }
          },
          "shapedefaults": {
           "line": {
            "color": "#2a3f5f"
           }
          },
          "ternary": {
           "aaxis": {
            "gridcolor": "white",
            "linecolor": "white",
            "ticks": ""
           },
           "baxis": {
            "gridcolor": "white",
            "linecolor": "white",
            "ticks": ""
           },
           "bgcolor": "#E5ECF6",
           "caxis": {
            "gridcolor": "white",
            "linecolor": "white",
            "ticks": ""
           }
          },
          "title": {
           "x": 0.05
          },
          "xaxis": {
           "automargin": true,
           "gridcolor": "white",
           "linecolor": "white",
           "ticks": "",
           "title": {
            "standoff": 15
           },
           "zerolinecolor": "white",
           "zerolinewidth": 2
          },
          "yaxis": {
           "automargin": true,
           "gridcolor": "white",
           "linecolor": "white",
           "ticks": "",
           "title": {
            "standoff": 15
           },
           "zerolinecolor": "white",
           "zerolinewidth": 2
          }
         }
        },
        "title": {
         "font": {
          "size": 16
         },
         "text": "📊 Order Count Distribution by Market"
        },
        "xaxis": {
         "anchor": "y",
         "domain": [
          0,
          1
         ],
         "title": {
          "text": "Market"
         }
        },
        "yaxis": {
         "anchor": "x",
         "domain": [
          0,
          1
         ],
         "title": {
          "text": "Daily Order Count"
         }
        }
       }
      }
     },
     "metadata": {},
     "output_type": "display_data"
    },
    {
     "data": {
      "application/vnd.plotly.v1+json": {
       "config": {
        "plotlyServerURL": "https://plot.ly"
       },
       "data": [
        {
         "coloraxis": "coloraxis",
         "hovertemplate": "Day of Week (0=Mon, 6=Sun): %{x}<br>Market: %{y}<br>Avg Orders: %{z}<extra></extra>",
         "name": "0",
         "type": "heatmap",
         "x": {
          "bdata": "AAECAwQFBg==",
          "dtype": "i1"
         },
         "xaxis": "x",
         "y": [
          "Europe",
          "LATAM",
          "USCA"
         ],
         "yaxis": "y",
         "z": {
          "bdata": "MzMzMzOTZUAAAAAAAGBlQAAAAAAAkGVAZmZmZmYWZUAzMzMzMwNlQDMzMzMzg2VAMzMzMzMjZUAzMzMzMyNlQAAAAAAAgGVAmpmZmZlpZUBmZmZmZoZlQGZmZmZmlmVAZmZmZmbGZUDNzMzMzIxlQGZmZmZmRmVAzczMzMw8ZUBmZmZmZlZlQGZmZmZmdmVAAAAAAACQZUCamZmZmVllQDMzMzMzs2RA",
          "dtype": "f8",
          "shape": "3, 7"
         }
        }
       ],
       "layout": {
        "coloraxis": {
         "colorbar": {
          "title": {
           "text": "Avg Orders"
          }
         },
         "colorscale": [
          [
           0,
           "rgb(247,251,255)"
          ],
          [
           0.125,
           "rgb(222,235,247)"
          ],
          [
           0.25,
           "rgb(198,219,239)"
          ],
          [
           0.375,
           "rgb(158,202,225)"
          ],
          [
           0.5,
           "rgb(107,174,214)"
          ],
          [
           0.625,
           "rgb(66,146,198)"
          ],
          [
           0.75,
           "rgb(33,113,181)"
          ],
          [
           0.875,
           "rgb(8,81,156)"
          ],
          [
           1,
           "rgb(8,48,107)"
          ]
         ]
        },
        "height": 350,
        "template": {
         "data": {
          "bar": [
           {
            "error_x": {
             "color": "#2a3f5f"
            },
            "error_y": {
             "color": "#2a3f5f"
            },
            "marker": {
             "line": {
              "color": "#E5ECF6",
              "width": 0.5
             },
             "pattern": {
              "fillmode": "overlay",
              "size": 10,
              "solidity": 0.2
             }
            },
            "type": "bar"
           }
          ],
          "barpolar": [
           {
            "marker": {
             "line": {
              "color": "#E5ECF6",
              "width": 0.5
             },
             "pattern": {
              "fillmode": "overlay",
              "size": 10,
              "solidity": 0.2
             }
            },
            "type": "barpolar"
           }
          ],
          "carpet": [
           {
            "aaxis": {
             "endlinecolor": "#2a3f5f",
             "gridcolor": "white",
             "linecolor": "white",
             "minorgridcolor": "white",
             "startlinecolor": "#2a3f5f"
            },
            "baxis": {
             "endlinecolor": "#2a3f5f",
             "gridcolor": "white",
             "linecolor": "white",
             "minorgridcolor": "white",
             "startlinecolor": "#2a3f5f"
            },
            "type": "carpet"
           }
          ],
          "choropleth": [
           {
            "colorbar": {
             "outlinewidth": 0,
             "ticks": ""
            },
            "type": "choropleth"
           }
          ],
          "contour": [
           {
            "colorbar": {
             "outlinewidth": 0,
             "ticks": ""
            },
            "colorscale": [
             [
              0,
              "#0d0887"
             ],
             [
              0.1111111111111111,
              "#46039f"
             ],
             [
              0.2222222222222222,
              "#7201a8"
             ],
             [
              0.3333333333333333,
              "#9c179e"
             ],
             [
              0.4444444444444444,
              "#bd3786"
             ],
             [
              0.5555555555555556,
              "#d8576b"
             ],
             [
              0.6666666666666666,
              "#ed7953"
             ],
             [
              0.7777777777777778,
              "#fb9f3a"
             ],
             [
              0.8888888888888888,
              "#fdca26"
             ],
             [
              1,
              "#f0f921"
             ]
            ],
            "type": "contour"
           }
          ],
          "contourcarpet": [
           {
            "colorbar": {
             "outlinewidth": 0,
             "ticks": ""
            },
            "type": "contourcarpet"
           }
          ],
          "heatmap": [
           {
            "colorbar": {
             "outlinewidth": 0,
             "ticks": ""
            },
            "colorscale": [
             [
              0,
              "#0d0887"
             ],
             [
              0.1111111111111111,
              "#46039f"
             ],
             [
              0.2222222222222222,
              "#7201a8"
             ],
             [
              0.3333333333333333,
              "#9c179e"
             ],
             [
              0.4444444444444444,
              "#bd3786"
             ],
             [
              0.5555555555555556,
              "#d8576b"
             ],
             [
              0.6666666666666666,
              "#ed7953"
             ],
             [
              0.7777777777777778,
              "#fb9f3a"
             ],
             [
              0.8888888888888888,
              "#fdca26"
             ],
             [
              1,
              "#f0f921"
             ]
            ],
            "type": "heatmap"
           }
          ],
          "histogram": [
           {
            "marker": {
             "pattern": {
              "fillmode": "overlay",
              "size": 10,
              "solidity": 0.2
             }
            },
            "type": "histogram"
           }
          ],
          "histogram2d": [
           {
            "colorbar": {
             "outlinewidth": 0,
             "ticks": ""
            },
            "colorscale": [
             [
              0,
              "#0d0887"
             ],
             [
              0.1111111111111111,
              "#46039f"
             ],
             [
              0.2222222222222222,
              "#7201a8"
             ],
             [
              0.3333333333333333,
              "#9c179e"
             ],
             [
              0.4444444444444444,
              "#bd3786"
             ],
             [
              0.5555555555555556,
              "#d8576b"
             ],
             [
              0.6666666666666666,
              "#ed7953"
             ],
             [
              0.7777777777777778,
              "#fb9f3a"
             ],
             [
              0.8888888888888888,
              "#fdca26"
             ],
             [
              1,
              "#f0f921"
             ]
            ],
            "type": "histogram2d"
           }
          ],
          "histogram2dcontour": [
           {
            "colorbar": {
             "outlinewidth": 0,
             "ticks": ""
            },
            "colorscale": [
             [
              0,
              "#0d0887"
             ],
             [
              0.1111111111111111,
              "#46039f"
             ],
             [
              0.2222222222222222,
              "#7201a8"
             ],
             [
              0.3333333333333333,
              "#9c179e"
             ],
             [
              0.4444444444444444,
              "#bd3786"
             ],
             [
              0.5555555555555556,
              "#d8576b"
             ],
             [
              0.6666666666666666,
              "#ed7953"
             ],
             [
              0.7777777777777778,
              "#fb9f3a"
             ],
             [
              0.8888888888888888,
              "#fdca26"
             ],
             [
              1,
              "#f0f921"
             ]
            ],
            "type": "histogram2dcontour"
           }
          ],
          "mesh3d": [
           {
            "colorbar": {
             "outlinewidth": 0,
             "ticks": ""
            },
            "type": "mesh3d"
           }
          ],
          "parcoords": [
           {
            "line": {
             "colorbar": {
              "outlinewidth": 0,
              "ticks": ""
             }
            },
            "type": "parcoords"
           }
          ],
          "pie": [
           {
            "automargin": true,
            "type": "pie"
           }
          ],
          "scatter": [
           {
            "fillpattern": {
             "fillmode": "overlay",
             "size": 10,
             "solidity": 0.2
            },
            "type": "scatter"
           }
          ],
          "scatter3d": [
           {
            "line": {
             "colorbar": {
              "outlinewidth": 0,
              "ticks": ""
             }
            },
            "marker": {
             "colorbar": {
              "outlinewidth": 0,
              "ticks": ""
             }
            },
            "type": "scatter3d"
           }
          ],
          "scattercarpet": [
           {
            "marker": {
             "colorbar": {
              "outlinewidth": 0,
              "ticks": ""
             }
            },
            "type": "scattercarpet"
           }
          ],
          "scattergeo": [
           {
            "marker": {
             "colorbar": {
              "outlinewidth": 0,
              "ticks": ""
             }
            },
            "type": "scattergeo"
           }
          ],
          "scattergl": [
           {
            "marker": {
             "colorbar": {
              "outlinewidth": 0,
              "ticks": ""
             }
            },
            "type": "scattergl"
           }
          ],
          "scattermap": [
           {
            "marker": {
             "colorbar": {
              "outlinewidth": 0,
              "ticks": ""
             }
            },
            "type": "scattermap"
           }
          ],
          "scattermapbox": [
           {
            "marker": {
             "colorbar": {
              "outlinewidth": 0,
              "ticks": ""
             }
            },
            "type": "scattermapbox"
           }
          ],
          "scatterpolar": [
           {
            "marker": {
             "colorbar": {
              "outlinewidth": 0,
              "ticks": ""
             }
            },
            "type": "scatterpolar"
           }
          ],
          "scatterpolargl": [
           {
            "marker": {
             "colorbar": {
              "outlinewidth": 0,
              "ticks": ""
             }
            },
            "type": "scatterpolargl"
           }
          ],
          "scatterternary": [
           {
            "marker": {
             "colorbar": {
              "outlinewidth": 0,
              "ticks": ""
             }
            },
            "type": "scatterternary"
           }
          ],
          "surface": [
           {
            "colorbar": {
             "outlinewidth": 0,
             "ticks": ""
            },
            "colorscale": [
             [
              0,
              "#0d0887"
             ],
             [
              0.1111111111111111,
              "#46039f"
             ],
             [
              0.2222222222222222,
              "#7201a8"
             ],
             [
              0.3333333333333333,
              "#9c179e"
             ],
             [
              0.4444444444444444,
              "#bd3786"
             ],
             [
              0.5555555555555556,
              "#d8576b"
             ],
             [
              0.6666666666666666,
              "#ed7953"
             ],
             [
              0.7777777777777778,
              "#fb9f3a"
             ],
             [
              0.8888888888888888,
              "#fdca26"
             ],
             [
              1,
              "#f0f921"
             ]
            ],
            "type": "surface"
           }
          ],
          "table": [
           {
            "cells": {
             "fill": {
              "color": "#EBF0F8"
             },
             "line": {
              "color": "white"
             }
            },
            "header": {
             "fill": {
              "color": "#C8D4E3"
             },
             "line": {
              "color": "white"
             }
            },
            "type": "table"
           }
          ]
         },
         "layout": {
          "annotationdefaults": {
           "arrowcolor": "#2a3f5f",
           "arrowhead": 0,
           "arrowwidth": 1
          },
          "autotypenumbers": "strict",
          "coloraxis": {
           "colorbar": {
            "outlinewidth": 0,
            "ticks": ""
           }
          },
          "colorscale": {
           "diverging": [
            [
             0,
             "#8e0152"
            ],
            [
             0.1,
             "#c51b7d"
            ],
            [
             0.2,
             "#de77ae"
            ],
            [
             0.3,
             "#f1b6da"
            ],
            [
             0.4,
             "#fde0ef"
            ],
            [
             0.5,
             "#f7f7f7"
            ],
            [
             0.6,
             "#e6f5d0"
            ],
            [
             0.7,
             "#b8e186"
            ],
            [
             0.8,
             "#7fbc41"
            ],
            [
             0.9,
             "#4d9221"
            ],
            [
             1,
             "#276419"
            ]
           ],
           "sequential": [
            [
             0,
             "#0d0887"
            ],
            [
             0.1111111111111111,
             "#46039f"
            ],
            [
             0.2222222222222222,
             "#7201a8"
            ],
            [
             0.3333333333333333,
             "#9c179e"
            ],
            [
             0.4444444444444444,
             "#bd3786"
            ],
            [
             0.5555555555555556,
             "#d8576b"
            ],
            [
             0.6666666666666666,
             "#ed7953"
            ],
            [
             0.7777777777777778,
             "#fb9f3a"
            ],
            [
             0.8888888888888888,
             "#fdca26"
            ],
            [
             1,
             "#f0f921"
            ]
           ],
           "sequentialminus": [
            [
             0,
             "#0d0887"
            ],
            [
             0.1111111111111111,
             "#46039f"
            ],
            [
             0.2222222222222222,
             "#7201a8"
            ],
            [
             0.3333333333333333,
             "#9c179e"
            ],
            [
             0.4444444444444444,
             "#bd3786"
            ],
            [
             0.5555555555555556,
             "#d8576b"
            ],
            [
             0.6666666666666666,
             "#ed7953"
            ],
            [
             0.7777777777777778,
             "#fb9f3a"
            ],
            [
             0.8888888888888888,
             "#fdca26"
            ],
            [
             1,
             "#f0f921"
            ]
           ]
          },
          "colorway": [
           "#636efa",
           "#EF553B",
           "#00cc96",
           "#ab63fa",
           "#FFA15A",
           "#19d3f3",
           "#FF6692",
           "#B6E880",
           "#FF97FF",
           "#FECB52"
          ],
          "font": {
           "color": "#2a3f5f"
          },
          "geo": {
           "bgcolor": "white",
           "lakecolor": "white",
           "landcolor": "#E5ECF6",
           "showlakes": true,
           "showland": true,
           "subunitcolor": "white"
          },
          "hoverlabel": {
           "align": "left"
          },
          "hovermode": "closest",
          "mapbox": {
           "style": "light"
          },
          "paper_bgcolor": "white",
          "plot_bgcolor": "#E5ECF6",
          "polar": {
           "angularaxis": {
            "gridcolor": "white",
            "linecolor": "white",
            "ticks": ""
           },
           "bgcolor": "#E5ECF6",
           "radialaxis": {
            "gridcolor": "white",
            "linecolor": "white",
            "ticks": ""
           }
          },
          "scene": {
           "xaxis": {
            "backgroundcolor": "#E5ECF6",
            "gridcolor": "white",
            "gridwidth": 2,
            "linecolor": "white",
            "showbackground": true,
            "ticks": "",
            "zerolinecolor": "white"
           },
           "yaxis": {
            "backgroundcolor": "#E5ECF6",
            "gridcolor": "white",
            "gridwidth": 2,
            "linecolor": "white",
            "showbackground": true,
            "ticks": "",
            "zerolinecolor": "white"
           },
           "zaxis": {
            "backgroundcolor": "#E5ECF6",
            "gridcolor": "white",
            "gridwidth": 2,
            "linecolor": "white",
            "showbackground": true,
            "ticks": "",
            "zerolinecolor": "white"
           }
          },
          "shapedefaults": {
           "line": {
            "color": "#2a3f5f"
           }
          },
          "ternary": {
           "aaxis": {
            "gridcolor": "white",
            "linecolor": "white",
            "ticks": ""
           },
           "baxis": {
            "gridcolor": "white",
            "linecolor": "white",
            "ticks": ""
           },
           "bgcolor": "#E5ECF6",
           "caxis": {
            "gridcolor": "white",
            "linecolor": "white",
            "ticks": ""
           }
          },
          "title": {
           "x": 0.05
          },
          "xaxis": {
           "automargin": true,
           "gridcolor": "white",
           "linecolor": "white",
           "ticks": "",
           "title": {
            "standoff": 15
           },
           "zerolinecolor": "white",
           "zerolinewidth": 2
          },
          "yaxis": {
           "automargin": true,
           "gridcolor": "white",
           "linecolor": "white",
           "ticks": "",
           "title": {
            "standoff": 15
           },
           "zerolinecolor": "white",
           "zerolinewidth": 2
          }
         }
        },
        "title": {
         "font": {
          "size": 16
         },
         "text": "📊 Average Orders by Day of Week and Market"
        },
        "xaxis": {
         "anchor": "y",
         "constrain": "domain",
         "domain": [
          0,
          1
         ],
         "scaleanchor": "y",
         "title": {
          "text": "Day of Week (0=Mon, 6=Sun)"
         }
        },
        "yaxis": {
         "anchor": "x",
         "autorange": "reversed",
         "constrain": "domain",
         "domain": [
          0,
          1
         ],
         "title": {
          "text": "Market"
         }
        }
       }
      }
     },
     "metadata": {},
     "output_type": "display_data"
    },
    {
     "data": {
      "application/vnd.plotly.v1+json": {
       "config": {
        "plotlyServerURL": "https://plot.ly"
       },
       "data": [
        {
         "hovertemplate": "Market=Europe<br>Month=%{x}<br>Average Daily Orders=%{y}<extra></extra>",
         "legendgroup": "Europe",
         "line": {
          "color": "#636efa",
          "dash": "solid"
         },
         "marker": {
          "symbol": "circle"
         },
         "mode": "lines+markers",
         "name": "Europe",
         "orientation": "v",
         "showlegend": true,
         "type": "scatter",
         "x": {
          "bdata": "AQUGBwgJCgsM",
          "dtype": "i1"
         },
         "xaxis": "x",
         "y": {
          "bdata": "dM4555yTZUDNzMzMzLxlQBERERERIWVAY4wxxhhDZUD43nvvvZdlQCIiIiIiYmVAGWOMMcbYZEBVVVVVVUVlQMYYY4wxZmVA",
          "dtype": "f8"
         },
         "yaxis": "y"
        },
        {
         "hovertemplate": "Market=LATAM<br>Month=%{x}<br>Average Daily Orders=%{y}<extra></extra>",
         "legendgroup": "LATAM",
         "line": {
          "color": "#EF553B",
          "dash": "solid"
         },
         "marker": {
          "symbol": "circle"
         },
         "mode": "lines+markers",
         "name": "LATAM",
         "orientation": "v",
         "showlegend": true,
         "type": "scatter",
         "x": {
          "bdata": "AQUGBwgJCgsM",
          "dtype": "i1"
         },
         "xaxis": "x",
         "y": {
          "bdata": "CCGEEELIZEAAAAAAADBlQGZmZmZmVmVAfO+99967ZUBjjDHGGINlQAAAAAAAcGVAa6211lrrZUDv7u7u7n5lQDrnnHPO2WVA",
          "dtype": "f8"
         },
         "yaxis": "y"
        },
        {
         "hovertemplate": "Market=USCA<br>Month=%{x}<br>Average Daily Orders=%{y}<extra></extra>",
         "legendgroup": "USCA",
         "line": {
          "color": "#00cc96",
          "dash": "solid"
         },
         "marker": {
          "symbol": "circle"
         },
         "mode": "lines+markers",
         "name": "USCA",
         "orientation": "v",
         "showlegend": true,
         "type": "scatter",
         "x": {
          "bdata": "AQUGBwgJCgsM",
          "dtype": "i1"
         },
         "xaxis": "x",
         "y": {
          "bdata": "lVJKKaU0ZUAzMzMzM8NlQGZmZmZmdmVAhBBCCCFEZUAhhBBCCAFlQKuqqqqqqmVAQgghhBDiZEDe3d3d3Q1lQGOMMcYYg2VA",
          "dtype": "f8"
         },
         "yaxis": "y"
        }
       ],
       "layout": {
        "height": 400,
        "legend": {
         "title": {
          "text": "Market"
         },
         "tracegroupgap": 0
        },
        "template": {
         "data": {
          "bar": [
           {
            "error_x": {
             "color": "#2a3f5f"
            },
            "error_y": {
             "color": "#2a3f5f"
            },
            "marker": {
             "line": {
              "color": "#E5ECF6",
              "width": 0.5
             },
             "pattern": {
              "fillmode": "overlay",
              "size": 10,
              "solidity": 0.2
             }
            },
            "type": "bar"
           }
          ],
          "barpolar": [
           {
            "marker": {
             "line": {
              "color": "#E5ECF6",
              "width": 0.5
             },
             "pattern": {
              "fillmode": "overlay",
              "size": 10,
              "solidity": 0.2
             }
            },
            "type": "barpolar"
           }
          ],
          "carpet": [
           {
            "aaxis": {
             "endlinecolor": "#2a3f5f",
             "gridcolor": "white",
             "linecolor": "white",
             "minorgridcolor": "white",
             "startlinecolor": "#2a3f5f"
            },
            "baxis": {
             "endlinecolor": "#2a3f5f",
             "gridcolor": "white",
             "linecolor": "white",
             "minorgridcolor": "white",
             "startlinecolor": "#2a3f5f"
            },
            "type": "carpet"
           }
          ],
          "choropleth": [
           {
            "colorbar": {
             "outlinewidth": 0,
             "ticks": ""
            },
            "type": "choropleth"
           }
          ],
          "contour": [
           {
            "colorbar": {
             "outlinewidth": 0,
             "ticks": ""
            },
            "colorscale": [
             [
              0,
              "#0d0887"
             ],
             [
              0.1111111111111111,
              "#46039f"
             ],
             [
              0.2222222222222222,
              "#7201a8"
             ],
             [
              0.3333333333333333,
              "#9c179e"
             ],
             [
              0.4444444444444444,
              "#bd3786"
             ],
             [
              0.5555555555555556,
              "#d8576b"
             ],
             [
              0.6666666666666666,
              "#ed7953"
             ],
             [
              0.7777777777777778,
              "#fb9f3a"
             ],
             [
              0.8888888888888888,
              "#fdca26"
             ],
             [
              1,
              "#f0f921"
             ]
            ],
            "type": "contour"
           }
          ],
          "contourcarpet": [
           {
            "colorbar": {
             "outlinewidth": 0,
             "ticks": ""
            },
            "type": "contourcarpet"
           }
          ],
          "heatmap": [
           {
            "colorbar": {
             "outlinewidth": 0,
             "ticks": ""
            },
            "colorscale": [
             [
              0,
              "#0d0887"
             ],
             [
              0.1111111111111111,
              "#46039f"
             ],
             [
              0.2222222222222222,
              "#7201a8"
             ],
             [
              0.3333333333333333,
              "#9c179e"
             ],
             [
              0.4444444444444444,
              "#bd3786"
             ],
             [
              0.5555555555555556,
              "#d8576b"
             ],
             [
              0.6666666666666666,
              "#ed7953"
             ],
             [
              0.7777777777777778,
              "#fb9f3a"
             ],
             [
              0.8888888888888888,
              "#fdca26"
             ],
             [
              1,
              "#f0f921"
             ]
            ],
            "type": "heatmap"
           }
          ],
          "histogram": [
           {
            "marker": {
             "pattern": {
              "fillmode": "overlay",
              "size": 10,
              "solidity": 0.2
             }
            },
            "type": "histogram"
           }
          ],
          "histogram2d": [
           {
            "colorbar": {
             "outlinewidth": 0,
             "ticks": ""
            },
            "colorscale": [
             [
              0,
              "#0d0887"
             ],
             [
              0.1111111111111111,
              "#46039f"
             ],
             [
              0.2222222222222222,
              "#7201a8"
             ],
             [
              0.3333333333333333,
              "#9c179e"
             ],
             [
              0.4444444444444444,
              "#bd3786"
             ],
             [
              0.5555555555555556,
              "#d8576b"
             ],
             [
              0.6666666666666666,
              "#ed7953"
             ],
             [
              0.7777777777777778,
              "#fb9f3a"
             ],
             [
              0.8888888888888888,
              "#fdca26"
             ],
             [
              1,
              "#f0f921"
             ]
            ],
            "type": "histogram2d"
           }
          ],
          "histogram2dcontour": [
           {
            "colorbar": {
             "outlinewidth": 0,
             "ticks": ""
            },
            "colorscale": [
             [
              0,
              "#0d0887"
             ],
             [
              0.1111111111111111,
              "#46039f"
             ],
             [
              0.2222222222222222,
              "#7201a8"
             ],
             [
              0.3333333333333333,
              "#9c179e"
             ],
             [
              0.4444444444444444,
              "#bd3786"
             ],
             [
              0.5555555555555556,
              "#d8576b"
             ],
             [
              0.6666666666666666,
              "#ed7953"
             ],
             [
              0.7777777777777778,
              "#fb9f3a"
             ],
             [
              0.8888888888888888,
              "#fdca26"
             ],
             [
              1,
              "#f0f921"
             ]
            ],
            "type": "histogram2dcontour"
           }
          ],
          "mesh3d": [
           {
            "colorbar": {
             "outlinewidth": 0,
             "ticks": ""
            },
            "type": "mesh3d"
           }
          ],
          "parcoords": [
           {
            "line": {
             "colorbar": {
              "outlinewidth": 0,
              "ticks": ""
             }
            },
            "type": "parcoords"
           }
          ],
          "pie": [
           {
            "automargin": true,
            "type": "pie"
           }
          ],
          "scatter": [
           {
            "fillpattern": {
             "fillmode": "overlay",
             "size": 10,
             "solidity": 0.2
            },
            "type": "scatter"
           }
          ],
          "scatter3d": [
           {
            "line": {
             "colorbar": {
              "outlinewidth": 0,
              "ticks": ""
             }
            },
            "marker": {
             "colorbar": {
              "outlinewidth": 0,
              "ticks": ""
             }
            },
            "type": "scatter3d"
           }
          ],
          "scattercarpet": [
           {
            "marker": {
             "colorbar": {
              "outlinewidth": 0,
              "ticks": ""
             }
            },
            "type": "scattercarpet"
           }
          ],
          "scattergeo": [
           {
            "marker": {
             "colorbar": {
              "outlinewidth": 0,
              "ticks": ""
             }
            },
            "type": "scattergeo"
           }
          ],
          "scattergl": [
           {
            "marker": {
             "colorbar": {
              "outlinewidth": 0,
              "ticks": ""
             }
            },
            "type": "scattergl"
           }
          ],
          "scattermap": [
           {
            "marker": {
             "colorbar": {
              "outlinewidth": 0,
              "ticks": ""
             }
            },
            "type": "scattermap"
           }
          ],
          "scattermapbox": [
           {
            "marker": {
             "colorbar": {
              "outlinewidth": 0,
              "ticks": ""
             }
            },
            "type": "scattermapbox"
           }
          ],
          "scatterpolar": [
           {
            "marker": {
             "colorbar": {
              "outlinewidth": 0,
              "ticks": ""
             }
            },
            "type": "scatterpolar"
           }
          ],
          "scatterpolargl": [
           {
            "marker": {
             "colorbar": {
              "outlinewidth": 0,
              "ticks": ""
             }
            },
            "type": "scatterpolargl"
           }
          ],
          "scatterternary": [
           {
            "marker": {
             "colorbar": {
              "outlinewidth": 0,
              "ticks": ""
             }
            },
            "type": "scatterternary"
           }
          ],
          "surface": [
           {
            "colorbar": {
             "outlinewidth": 0,
             "ticks": ""
            },
            "colorscale": [
             [
              0,
              "#0d0887"
             ],
             [
              0.1111111111111111,
              "#46039f"
             ],
             [
              0.2222222222222222,
              "#7201a8"
             ],
             [
              0.3333333333333333,
              "#9c179e"
             ],
             [
              0.4444444444444444,
              "#bd3786"
             ],
             [
              0.5555555555555556,
              "#d8576b"
             ],
             [
              0.6666666666666666,
              "#ed7953"
             ],
             [
              0.7777777777777778,
              "#fb9f3a"
             ],
             [
              0.8888888888888888,
              "#fdca26"
             ],
             [
              1,
              "#f0f921"
             ]
            ],
            "type": "surface"
           }
          ],
          "table": [
           {
            "cells": {
             "fill": {
              "color": "#EBF0F8"
             },
             "line": {
              "color": "white"
             }
            },
            "header": {
             "fill": {
              "color": "#C8D4E3"
             },
             "line": {
              "color": "white"
             }
            },
            "type": "table"
           }
          ]
         },
         "layout": {
          "annotationdefaults": {
           "arrowcolor": "#2a3f5f",
           "arrowhead": 0,
           "arrowwidth": 1
          },
          "autotypenumbers": "strict",
          "coloraxis": {
           "colorbar": {
            "outlinewidth": 0,
            "ticks": ""
           }
          },
          "colorscale": {
           "diverging": [
            [
             0,
             "#8e0152"
            ],
            [
             0.1,
             "#c51b7d"
            ],
            [
             0.2,
             "#de77ae"
            ],
            [
             0.3,
             "#f1b6da"
            ],
            [
             0.4,
             "#fde0ef"
            ],
            [
             0.5,
             "#f7f7f7"
            ],
            [
             0.6,
             "#e6f5d0"
            ],
            [
             0.7,
             "#b8e186"
            ],
            [
             0.8,
             "#7fbc41"
            ],
            [
             0.9,
             "#4d9221"
            ],
            [
             1,
             "#276419"
            ]
           ],
           "sequential": [
            [
             0,
             "#0d0887"
            ],
            [
             0.1111111111111111,
             "#46039f"
            ],
            [
             0.2222222222222222,
             "#7201a8"
            ],
            [
             0.3333333333333333,
             "#9c179e"
            ],
            [
             0.4444444444444444,
             "#bd3786"
            ],
            [
             0.5555555555555556,
             "#d8576b"
            ],
            [
             0.6666666666666666,
             "#ed7953"
            ],
            [
             0.7777777777777778,
             "#fb9f3a"
            ],
            [
             0.8888888888888888,
             "#fdca26"
            ],
            [
             1,
             "#f0f921"
            ]
           ],
           "sequentialminus": [
            [
             0,
             "#0d0887"
            ],
            [
             0.1111111111111111,
             "#46039f"
            ],
            [
             0.2222222222222222,
             "#7201a8"
            ],
            [
             0.3333333333333333,
             "#9c179e"
            ],
            [
             0.4444444444444444,
             "#bd3786"
            ],
            [
             0.5555555555555556,
             "#d8576b"
            ],
            [
             0.6666666666666666,
             "#ed7953"
            ],
            [
             0.7777777777777778,
             "#fb9f3a"
            ],
            [
             0.8888888888888888,
             "#fdca26"
            ],
            [
             1,
             "#f0f921"
            ]
           ]
          },
          "colorway": [
           "#636efa",
           "#EF553B",
           "#00cc96",
           "#ab63fa",
           "#FFA15A",
           "#19d3f3",
           "#FF6692",
           "#B6E880",
           "#FF97FF",
           "#FECB52"
          ],
          "font": {
           "color": "#2a3f5f"
          },
          "geo": {
           "bgcolor": "white",
           "lakecolor": "white",
           "landcolor": "#E5ECF6",
           "showlakes": true,
           "showland": true,
           "subunitcolor": "white"
          },
          "hoverlabel": {
           "align": "left"
          },
          "hovermode": "closest",
          "mapbox": {
           "style": "light"
          },
          "paper_bgcolor": "white",
          "plot_bgcolor": "#E5ECF6",
          "polar": {
           "angularaxis": {
            "gridcolor": "white",
            "linecolor": "white",
            "ticks": ""
           },
           "bgcolor": "#E5ECF6",
           "radialaxis": {
            "gridcolor": "white",
            "linecolor": "white",
            "ticks": ""
           }
          },
          "scene": {
           "xaxis": {
            "backgroundcolor": "#E5ECF6",
            "gridcolor": "white",
            "gridwidth": 2,
            "linecolor": "white",
            "showbackground": true,
            "ticks": "",
            "zerolinecolor": "white"
           },
           "yaxis": {
            "backgroundcolor": "#E5ECF6",
            "gridcolor": "white",
            "gridwidth": 2,
            "linecolor": "white",
            "showbackground": true,
            "ticks": "",
            "zerolinecolor": "white"
           },
           "zaxis": {
            "backgroundcolor": "#E5ECF6",
            "gridcolor": "white",
            "gridwidth": 2,
            "linecolor": "white",
            "showbackground": true,
            "ticks": "",
            "zerolinecolor": "white"
           }
          },
          "shapedefaults": {
           "line": {
            "color": "#2a3f5f"
           }
          },
          "ternary": {
           "aaxis": {
            "gridcolor": "white",
            "linecolor": "white",
            "ticks": ""
           },
           "baxis": {
            "gridcolor": "white",
            "linecolor": "white",
            "ticks": ""
           },
           "bgcolor": "#E5ECF6",
           "caxis": {
            "gridcolor": "white",
            "linecolor": "white",
            "ticks": ""
           }
          },
          "title": {
           "x": 0.05
          },
          "xaxis": {
           "automargin": true,
           "gridcolor": "white",
           "linecolor": "white",
           "ticks": "",
           "title": {
            "standoff": 15
           },
           "zerolinecolor": "white",
           "zerolinewidth": 2
          },
          "yaxis": {
           "automargin": true,
           "gridcolor": "white",
           "linecolor": "white",
           "ticks": "",
           "title": {
            "standoff": 15
           },
           "zerolinecolor": "white",
           "zerolinewidth": 2
          }
         }
        },
        "title": {
         "font": {
          "size": 16
         },
         "text": "📊 Monthly Average Orders by Market"
        },
        "xaxis": {
         "anchor": "y",
         "domain": [
          0,
          1
         ],
         "title": {
          "text": "Month"
         }
        },
        "yaxis": {
         "anchor": "x",
         "domain": [
          0,
          1
         ],
         "title": {
          "text": "Average Daily Orders"
         }
        }
       }
      }
     },
     "metadata": {},
     "output_type": "display_data"
    },
    {
     "name": "stdout",
     "output_type": "stream",
     "text": [
      "\n",
      "✅ Additional validation charts completed!\n",
      "\n",
      "🔍 DATA QUALITY VALIDATION:\n",
      "========================================\n",
      "📊 Missing values: 0\n",
      "📊 Duplicate records: 0\n",
      "📊 Date range continuity: 255 unique dates\n",
      "📊 Records per market: {'Europe': 255, 'LATAM': 255, 'USCA': 255}\n",
      "📊 Weekend vs Weekday orders:\n",
      "   - Weekend average: 170.7 orders/day\n",
      "   - Weekday average: 171.0 orders/day\n",
      "   - Weekend/Weekday ratio: 1.00\n",
      "\n",
      "🎯 PROCESSED DATA IS READY FOR MODEL TRAINING!\n"
     ]
    }
   ],
   "source": [
    "# Create additional validation visualizations\n",
    "print(\"📊 Creating additional validation charts...\")\n",
    "\n",
    "# 1. Box plot for order distribution by market\n",
    "fig1 = px.box(\n",
    "    processed_data, \n",
    "    x='Market', \n",
    "    y='order_count',\n",
    "    title='📊 Order Count Distribution by Market',\n",
    "    labels={'order_count': 'Daily Order Count', 'Market': 'Market'}\n",
    ")\n",
    "fig1.update_layout(title_font_size=16, height=400)\n",
    "fig1.show()\n",
    "\n",
    "# 2. Heatmap of orders by day of week and market\n",
    "pivot_dow = processed_data.pivot_table(\n",
    "    values='order_count', \n",
    "    index='Market', \n",
    "    columns='day_of_week', \n",
    "    aggfunc='mean'\n",
    ").round(1)\n",
    "\n",
    "fig2 = px.imshow(\n",
    "    pivot_dow, \n",
    "    title='📊 Average Orders by Day of Week and Market',\n",
    "    labels={'x': 'Day of Week (0=Mon, 6=Sun)', 'y': 'Market', 'color': 'Avg Orders'},\n",
    "    color_continuous_scale='Blues'\n",
    ")\n",
    "fig2.update_layout(title_font_size=16, height=350)\n",
    "fig2.show()\n",
    "\n",
    "# 3. Monthly trend comparison\n",
    "monthly_data = processed_data.groupby(['Market', 'month'])['order_count'].mean().reset_index()\n",
    "fig3 = px.line(\n",
    "    monthly_data,\n",
    "    x='month',\n",
    "    y='order_count', \n",
    "    color='Market',\n",
    "    title='📊 Monthly Average Orders by Market',\n",
    "    labels={'month': 'Month', 'order_count': 'Average Daily Orders', 'Market': 'Market'},\n",
    "    markers=True\n",
    ")\n",
    "fig3.update_layout(title_font_size=16, height=400)\n",
    "fig3.show()\n",
    "\n",
    "print(f\"\\n✅ Additional validation charts completed!\")\n",
    "\n",
    "# Data quality validation\n",
    "print(f\"\\n🔍 DATA QUALITY VALIDATION:\")\n",
    "print(f\"=\"*40)\n",
    "print(f\"📊 Missing values: {processed_data.isnull().sum().sum()}\")\n",
    "print(f\"📊 Duplicate records: {processed_data.duplicated().sum()}\")\n",
    "print(f\"📊 Date range continuity: {len(processed_data['order_date_only'].unique())} unique dates\")\n",
    "print(f\"📊 Records per market: {processed_data['Market'].value_counts().to_dict()}\")\n",
    "print(f\"📊 Weekend vs Weekday orders:\")\n",
    "weekend_avg = processed_data[processed_data['is_weekend'] == 1]['order_count'].mean()\n",
    "weekday_avg = processed_data[processed_data['is_weekend'] == 0]['order_count'].mean()\n",
    "print(f\"   - Weekend average: {weekend_avg:.1f} orders/day\")\n",
    "print(f\"   - Weekday average: {weekday_avg:.1f} orders/day\")\n",
    "print(f\"   - Weekend/Weekday ratio: {(weekend_avg/weekday_avg):.2f}\")\n",
    "\n",
    "print(f\"\\n🎯 PROCESSED DATA IS READY FOR MODEL TRAINING!\")"
   ]
  },
  {
   "cell_type": "markdown",
   "id": "9fa3da08",
   "metadata": {},
   "source": [
    "## 🎉 **PREPROCESSING PIPELINE COMPLETED SUCCESSFULLY!**\n",
    "\n",
    "### ✅ **Key Achievements:**\n",
    "\n",
    "1. **📂 Data Loading**: Successfully loaded 147,041 transactions from raw dataset\n",
    "2. **🔍 Timeline Synchronization**: Implemented Option A strategy with only **11.7% data loss**\n",
    "3. **📊 Daily Aggregation**: Transformed to 765 daily records (255 days × 3 markets)\n",
    "4. **🕐 Feature Engineering**: Created 21 features (20 numerical + 1 categorical)\n",
    "5. **💾 Data Export**: Saved processed data with comprehensive metadata\n",
    "6. **📈 Validation**: Created interactive visualizations confirming data quality\n",
    "\n",
    "### 📁 **Generated Files:**\n",
    "- `supply_chain_processed.csv` - Main processed dataset\n",
    "- `feature_mapping.json` - Feature definitions and encodings  \n",
    "- `preprocessing_stats.json` - Pipeline statistics and metadata\n",
    "\n",
    "### 📊 **Final Dataset Specifications:**\n",
    "- **Timeline**: 2017-05-22 to 2018-01-31 (255 days)\n",
    "- **Markets**: Europe (0), LATAM (1), USCA (2) \n",
    "- **Features**: 21 total (perfectly balanced for QCAAPatchTF_Embedding)\n",
    "- **Data Quality**: Excellent (no missing values, no duplicates)\n",
    "- **Target Variable**: `order_count` (avg ~170 orders/day/market)\n",
    "\n",
    "### 🎯 **Ready for Model Training:**\n",
    "Data is now in the optimal format for **QCAAPatchTF_Embedding** with:\n",
    "- **Input format**: `[seq_len, 21_features]`\n",
    "- **Target format**: `[pred_len, 3_markets]` \n",
    "- **Market encoding**: Ready for embedding layer\n",
    "- **Synchronized timeline**: Perfect for multi-market forecasting\n",
    "\n",
    "---\n",
    "\n",
    "**Next Step**: Use this processed data for QCAAPatchTF_Embedding model training! 🚀"
   ]
  }
 ],
 "metadata": {
  "kernelspec": {
   "display_name": ".venv",
   "language": "python",
   "name": "python3"
  },
  "language_info": {
   "codemirror_mode": {
    "name": "ipython",
    "version": 3
   },
   "file_extension": ".py",
   "mimetype": "text/x-python",
   "name": "python",
   "nbconvert_exporter": "python",
   "pygments_lexer": "ipython3",
   "version": "3.10.18"
  }
 },
 "nbformat": 4,
 "nbformat_minor": 5
}
